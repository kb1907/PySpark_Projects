{
 "cells": [
  {
   "cell_type": "markdown",
   "metadata": {
    "id": "jPyDpDqvZuLo"
   },
   "source": [
    "# PySpark SQL - General Overview"
   ]
  },
  {
   "cell_type": "markdown",
   "metadata": {
    "id": "F2YNhXuUwGNl"
   },
   "source": [
    "![](https://miro.medium.com/max/600/1*5C4UQznqEiN3D6Xutlgwlg.png)"
   ]
  },
  {
   "cell_type": "code",
   "execution_count": null,
   "metadata": {
    "colab": {
     "base_uri": "https://localhost:8080/"
    },
    "id": "LJq2nzUKWujx",
    "outputId": "ded89449-3e4c-4030-95ce-723bcf9c41c3"
   },
   "outputs": [
    {
     "name": "stdout",
     "output_type": "stream",
     "text": [
      "Collecting pyspark\n",
      "  Downloading pyspark-3.2.0.tar.gz (281.3 MB)\n",
      "\u001b[K     |████████████████████████████████| 281.3 MB 39 kB/s \n",
      "\u001b[?25hCollecting py4j==0.10.9.2\n",
      "  Downloading py4j-0.10.9.2-py2.py3-none-any.whl (198 kB)\n",
      "\u001b[K     |████████████████████████████████| 198 kB 42.3 MB/s \n",
      "\u001b[?25hBuilding wheels for collected packages: pyspark\n",
      "  Building wheel for pyspark (setup.py) ... \u001b[?25l\u001b[?25hdone\n",
      "  Created wheel for pyspark: filename=pyspark-3.2.0-py2.py3-none-any.whl size=281805912 sha256=faa02f06adf85e57b597afa0b747b9eaf8e5a6664564a07750a5938c2139773e\n",
      "  Stored in directory: /root/.cache/pip/wheels/0b/de/d2/9be5d59d7331c6c2a7c1b6d1a4f463ce107332b1ecd4e80718\n",
      "Successfully built pyspark\n",
      "Installing collected packages: py4j, pyspark\n",
      "Successfully installed py4j-0.10.9.2 pyspark-3.2.0\n"
     ]
    }
   ],
   "source": [
    "!pip install pyspark"
   ]
  },
  {
   "cell_type": "code",
   "execution_count": null,
   "metadata": {
    "id": "gS3YIWJiW7I3"
   },
   "outputs": [],
   "source": [
    "from pyspark.sql import SparkSession\n",
    "from pyspark.sql.functions import count, desc , col, max, struct\n",
    "import matplotlib.pyplot as plt"
   ]
  },
  {
   "cell_type": "code",
   "execution_count": null,
   "metadata": {
    "cellView": "both",
    "id": "XXSZBvRgSnCN"
   },
   "outputs": [],
   "source": [
    "spark= SparkSession.builder.appName('Spark_app').getOrCreate()"
   ]
  },
  {
   "cell_type": "code",
   "execution_count": null,
   "metadata": {
    "id": "gK22lJDRTuKY"
   },
   "outputs": [],
   "source": [
    "listening_df = spark.read.csv('/content/drive/MyDrive/dataset/listenings.csv', header=True, inferSchema=True)"
   ]
  },
  {
   "cell_type": "code",
   "execution_count": null,
   "metadata": {
    "colab": {
     "base_uri": "https://localhost:8080/"
    },
    "id": "5Ji0zViUyjUE",
    "outputId": "c9daff6e-ca79-4f55-a285-e38732c002fa"
   },
   "outputs": [
    {
     "name": "stdout",
     "output_type": "stream",
     "text": [
      "+-----------+-------------+--------------------+---------------+--------------------+\n",
      "|    user_id|         date|               track|         artist|               album|\n",
      "+-----------+-------------+--------------------+---------------+--------------------+\n",
      "|000Silenced|1299680100000|           Price Tag|       Jessie J|         Who You Are|\n",
      "|000Silenced|1299679920000|Price Tag (Acoust...|       Jessie J|           Price Tag|\n",
      "|000Silenced|1299679440000|Be Mine! (Ballad ...|          Robyn|            Be Mine!|\n",
      "|000Silenced|1299679200000|            Acapella|          Kelis|            Acapella|\n",
      "|000Silenced|1299675660000|   I'm Not Invisible|      The Tease|   I'm Not Invisible|\n",
      "|000Silenced|1297511400000|Bounce (Feat NORE...|       MSTRKRFT|         Fist of God|\n",
      "|000Silenced|1294498440000|Don't Stop The Mu...|        Rihanna|Addicted 2 Bassli...|\n",
      "|000Silenced|1292438340000|               ObZen|      Meshuggah|               ObZen|\n",
      "|000Silenced|1292437740000|   Yama's Messengers|         Gojira|The Way of All Flesh|\n",
      "|000Silenced|1292436360000|On the Brink of E...|   Napalm Death|Time Waits For No...|\n",
      "|000Silenced|1292436360000|On the Brink of E...|   Napalm Death|Time Waits For No...|\n",
      "|000Silenced|1292435940000|        In Deference|   Napalm Death|      Smear Campaign|\n",
      "|000Silenced|1292434920000|      Post(?)organic|    Decapitated|Organic Hallucinosis|\n",
      "|000Silenced|1292434560000|        Mind Feeders|   Dom & Roland| No Strings Attached|\n",
      "|000Silenced|1292434320000|Necrosadistic War...|Cannibal Corpse|                Kill|\n",
      "|000Silenced|1292365560000|     Dance All Night|   Dom & Roland|          Chronology|\n",
      "|000Silenced|1292365260000|          Late Night|   Dom & Roland|          Chronology|\n",
      "|000Silenced|1292365020000|          Freak Seen|   Dom & Roland|          Chronology|\n",
      "|000Silenced|1292364720000|Paradrenasite (Hi...|   Dom & Roland|          Chronology|\n",
      "|000Silenced|1292364300000|               Rhino|   Dom & Roland|          Chronology|\n",
      "+-----------+-------------+--------------------+---------------+--------------------+\n",
      "only showing top 20 rows\n",
      "\n"
     ]
    }
   ],
   "source": [
    "listening_df.show()"
   ]
  },
  {
   "cell_type": "code",
   "execution_count": null,
   "metadata": {
    "id": "pIMzBAglwtNP"
   },
   "outputs": [],
   "source": [
    "listening_df= listening_df.drop('date')"
   ]
  },
  {
   "cell_type": "code",
   "execution_count": null,
   "metadata": {
    "id": "Botf6-Vb4uqs"
   },
   "outputs": [],
   "source": [
    "listening_df= listening_df.na.drop()"
   ]
  },
  {
   "cell_type": "code",
   "execution_count": null,
   "metadata": {
    "colab": {
     "base_uri": "https://localhost:8080/"
    },
    "id": "JDp_rdEY40u3",
    "outputId": "9e01325b-370c-49a6-f423-1d44b4551965"
   },
   "outputs": [
    {
     "name": "stdout",
     "output_type": "stream",
     "text": [
      "+-----------+--------------------+---------------+--------------------+\n",
      "|    user_id|               track|         artist|               album|\n",
      "+-----------+--------------------+---------------+--------------------+\n",
      "|000Silenced|           Price Tag|       Jessie J|         Who You Are|\n",
      "|000Silenced|Price Tag (Acoust...|       Jessie J|           Price Tag|\n",
      "|000Silenced|Be Mine! (Ballad ...|          Robyn|            Be Mine!|\n",
      "|000Silenced|            Acapella|          Kelis|            Acapella|\n",
      "|000Silenced|   I'm Not Invisible|      The Tease|   I'm Not Invisible|\n",
      "|000Silenced|Bounce (Feat NORE...|       MSTRKRFT|         Fist of God|\n",
      "|000Silenced|Don't Stop The Mu...|        Rihanna|Addicted 2 Bassli...|\n",
      "|000Silenced|               ObZen|      Meshuggah|               ObZen|\n",
      "|000Silenced|   Yama's Messengers|         Gojira|The Way of All Flesh|\n",
      "|000Silenced|On the Brink of E...|   Napalm Death|Time Waits For No...|\n",
      "|000Silenced|On the Brink of E...|   Napalm Death|Time Waits For No...|\n",
      "|000Silenced|        In Deference|   Napalm Death|      Smear Campaign|\n",
      "|000Silenced|      Post(?)organic|    Decapitated|Organic Hallucinosis|\n",
      "|000Silenced|        Mind Feeders|   Dom & Roland| No Strings Attached|\n",
      "|000Silenced|Necrosadistic War...|Cannibal Corpse|                Kill|\n",
      "|000Silenced|     Dance All Night|   Dom & Roland|          Chronology|\n",
      "|000Silenced|          Late Night|   Dom & Roland|          Chronology|\n",
      "|000Silenced|          Freak Seen|   Dom & Roland|          Chronology|\n",
      "|000Silenced|Paradrenasite (Hi...|   Dom & Roland|          Chronology|\n",
      "|000Silenced|               Rhino|   Dom & Roland|          Chronology|\n",
      "+-----------+--------------------+---------------+--------------------+\n",
      "only showing top 20 rows\n",
      "\n"
     ]
    }
   ],
   "source": [
    "listening_df.show()"
   ]
  },
  {
   "cell_type": "code",
   "execution_count": null,
   "metadata": {
    "colab": {
     "base_uri": "https://localhost:8080/"
    },
    "id": "qVg1jt1OyWdh",
    "outputId": "41b86a02-6b2f-40de-d45b-124b728ae40d"
   },
   "outputs": [
    {
     "name": "stdout",
     "output_type": "stream",
     "text": [
      "root\n",
      " |-- user_id: string (nullable = true)\n",
      " |-- track: string (nullable = true)\n",
      " |-- artist: string (nullable = true)\n",
      " |-- album: string (nullable = true)\n",
      "\n"
     ]
    }
   ],
   "source": [
    "listening_df.printSchema()"
   ]
  },
  {
   "cell_type": "code",
   "execution_count": null,
   "metadata": {
    "colab": {
     "base_uri": "https://localhost:8080/"
    },
    "id": "6POkV3YFmh6b",
    "outputId": "1238e3e4-d2cc-4dac-e8b2-17afa5757712"
   },
   "outputs": [
    {
     "name": "stdout",
     "output_type": "stream",
     "text": [
      "(13758905, 4)\n"
     ]
    }
   ],
   "source": [
    "shape= (listening_df.count(), len(listening_df.columns))\n",
    "\n",
    "print(shape)"
   ]
  },
  {
   "cell_type": "code",
   "execution_count": null,
   "metadata": {
    "colab": {
     "base_uri": "https://localhost:8080/"
    },
    "id": "FZTdA5wn2TZy",
    "outputId": "54094b39-274f-48e0-c9c4-cdfd3db87a50"
   },
   "outputs": [
    {
     "name": "stdout",
     "output_type": "stream",
     "text": [
      "+--------------------+---------------+\n",
      "|               track|         artist|\n",
      "+--------------------+---------------+\n",
      "|           Price Tag|       Jessie J|\n",
      "|Price Tag (Acoust...|       Jessie J|\n",
      "|Be Mine! (Ballad ...|          Robyn|\n",
      "|            Acapella|          Kelis|\n",
      "|   I'm Not Invisible|      The Tease|\n",
      "|Bounce (Feat NORE...|       MSTRKRFT|\n",
      "|Don't Stop The Mu...|        Rihanna|\n",
      "|               ObZen|      Meshuggah|\n",
      "|   Yama's Messengers|         Gojira|\n",
      "|On the Brink of E...|   Napalm Death|\n",
      "|On the Brink of E...|   Napalm Death|\n",
      "|        In Deference|   Napalm Death|\n",
      "|      Post(?)organic|    Decapitated|\n",
      "|        Mind Feeders|   Dom & Roland|\n",
      "|Necrosadistic War...|Cannibal Corpse|\n",
      "|     Dance All Night|   Dom & Roland|\n",
      "|          Late Night|   Dom & Roland|\n",
      "|          Freak Seen|   Dom & Roland|\n",
      "|Paradrenasite (Hi...|   Dom & Roland|\n",
      "|               Rhino|   Dom & Roland|\n",
      "+--------------------+---------------+\n",
      "only showing top 20 rows\n",
      "\n"
     ]
    }
   ],
   "source": [
    "listening_df.select('track','artist').show()"
   ]
  },
  {
   "cell_type": "markdown",
   "metadata": {
    "id": "QRcgXOFs2hjw"
   },
   "source": [
    "###  All of the records of those users who have listened to ***Rihanna***"
   ]
  },
  {
   "cell_type": "code",
   "execution_count": null,
   "metadata": {
    "colab": {
     "base_uri": "https://localhost:8080/"
    },
    "id": "ICyiTMVnppLw",
    "outputId": "c7c963bb-f784-4d8e-d2db-45d7dd463acc"
   },
   "outputs": [
    {
     "name": "stdout",
     "output_type": "stream",
     "text": [
      "+-----------+--------------------+-------+--------------------+\n",
      "|    user_id|               track| artist|               album|\n",
      "+-----------+--------------------+-------+--------------------+\n",
      "|000Silenced|Don't Stop The Mu...|Rihanna|Addicted 2 Bassli...|\n",
      "|000Silenced|           Disturbia|Rihanna|Good Girl Gone Ba...|\n",
      "|00williamsl|   Hatin On The Club|Rihanna|              Random|\n",
      "|00williamsl|   Hatin On The Club|Rihanna|              Random|\n",
      "|00williamsl|         Complicated|Rihanna|                Loud|\n",
      "|00williamsl|What's My Name (f...|Rihanna|                Loud|\n",
      "|00williamsl|Kanye West feat R...|Rihanna|                Loud|\n",
      "|    0502008|Only Girl (In the...|Rihanna|                Loud|\n",
      "|      0rdos|Pon De Replay (Re...|Rihanna|    Music of the Sun|\n",
      "|      0rdos|          Now I Know|Rihanna|    Music of the Sun|\n",
      "|      0rdos|There's a Thug in...|Rihanna|    Music of the Sun|\n",
      "|      0rdos|                Rush|Rihanna|    Music of the Sun|\n",
      "|      0rdos|              Let Me|Rihanna|    Music of the Sun|\n",
      "|      0rdos|    Music of the Sun|Rihanna|    Music of the Sun|\n",
      "|      0rdos|     Willing to Wait|Rihanna|    Music of the Sun|\n",
      "|      0rdos|       The Last Time|Rihanna|    Music of the Sun|\n",
      "|      0rdos|If It's Lovin' Th...|Rihanna|    Music of the Sun|\n",
      "|      0rdos|     Here I Go Again|Rihanna|    Music of the Sun|\n",
      "|      0rdos|       Pon de Replay|Rihanna|    Music of the Sun|\n",
      "|      0rdos|                 Cry|Rihanna|  Good Girl Gone Bad|\n",
      "+-----------+--------------------+-------+--------------------+\n",
      "only showing top 20 rows\n",
      "\n"
     ]
    }
   ],
   "source": [
    "listening_df.select('*').where(listening_df['artist']=='Rihanna').show()"
   ]
  },
  {
   "cell_type": "code",
   "execution_count": null,
   "metadata": {
    "colab": {
     "base_uri": "https://localhost:8080/"
    },
    "id": "PIa2eolhnT7J",
    "outputId": "62e05b20-08d7-4038-92f6-73ae8fe16ecb"
   },
   "outputs": [
    {
     "name": "stdout",
     "output_type": "stream",
     "text": [
      "+-----------+--------------------+-------+--------------------+\n",
      "|    user_id|               track| artist|               album|\n",
      "+-----------+--------------------+-------+--------------------+\n",
      "|000Silenced|Don't Stop The Mu...|Rihanna|Addicted 2 Bassli...|\n",
      "|000Silenced|           Disturbia|Rihanna|Good Girl Gone Ba...|\n",
      "|00williamsl|   Hatin On The Club|Rihanna|              Random|\n",
      "|00williamsl|   Hatin On The Club|Rihanna|              Random|\n",
      "|00williamsl|         Complicated|Rihanna|                Loud|\n",
      "|00williamsl|What's My Name (f...|Rihanna|                Loud|\n",
      "|00williamsl|Kanye West feat R...|Rihanna|                Loud|\n",
      "|    0502008|Only Girl (In the...|Rihanna|                Loud|\n",
      "|      0rdos|Pon De Replay (Re...|Rihanna|    Music of the Sun|\n",
      "|      0rdos|          Now I Know|Rihanna|    Music of the Sun|\n",
      "|      0rdos|There's a Thug in...|Rihanna|    Music of the Sun|\n",
      "|      0rdos|                Rush|Rihanna|    Music of the Sun|\n",
      "|      0rdos|              Let Me|Rihanna|    Music of the Sun|\n",
      "|      0rdos|    Music of the Sun|Rihanna|    Music of the Sun|\n",
      "|      0rdos|     Willing to Wait|Rihanna|    Music of the Sun|\n",
      "|      0rdos|       The Last Time|Rihanna|    Music of the Sun|\n",
      "|      0rdos|If It's Lovin' Th...|Rihanna|    Music of the Sun|\n",
      "|      0rdos|     Here I Go Again|Rihanna|    Music of the Sun|\n",
      "|      0rdos|       Pon de Replay|Rihanna|    Music of the Sun|\n",
      "|      0rdos|                 Cry|Rihanna|  Good Girl Gone Bad|\n",
      "+-----------+--------------------+-------+--------------------+\n",
      "only showing top 20 rows\n",
      "\n"
     ]
    }
   ],
   "source": [
    "# or\n",
    "\n",
    "listening_df.select('*').filter(listening_df['artist']=='Rihanna').show()"
   ]
  },
  {
   "cell_type": "markdown",
   "metadata": {
    "id": "I0IafeyvFU9O"
   },
   "source": [
    "### Top 10 users who are fan of ***Rihanna***"
   ]
  },
  {
   "cell_type": "code",
   "execution_count": null,
   "metadata": {
    "colab": {
     "base_uri": "https://localhost:8080/"
    },
    "id": "3-hM9kMm7JmI",
    "outputId": "b1200e1e-1ef8-4abf-8f28-2a4a19acaa9a"
   },
   "outputs": [
    {
     "name": "stdout",
     "output_type": "stream",
     "text": [
      "+---------------+--------------+\n",
      "|        user_id|number_of_time|\n",
      "+---------------+--------------+\n",
      "|        thiessu|           179|\n",
      "|    eyessetkyle|           166|\n",
      "|           adxx|           164|\n",
      "|missnumberthree|           156|\n",
      "|helloiamnatalie|           128|\n",
      "|          nmjnb|           124|\n",
      "|        AndyyyA|           123|\n",
      "|     BIGBANG186|           121|\n",
      "|     mixedvibes|           120|\n",
      "|       AndyKitt|           115|\n",
      "+---------------+--------------+\n",
      "only showing top 10 rows\n",
      "\n"
     ]
    }
   ],
   "source": [
    "listening_df.select('user_id').filter(listening_df['artist']=='Rihanna').groupby('user_id').agg(count('user_id').alias('number_of_time'))\\\n",
    ".orderBy(desc('number_of_time')).show(10)\n",
    "\n",
    "# or we can put limit() at the end to limit number of output"
   ]
  },
  {
   "cell_type": "markdown",
   "metadata": {
    "id": "hgAAl6aAcp41"
   },
   "source": [
    "### Top 10 famous tracks "
   ]
  },
  {
   "cell_type": "code",
   "execution_count": null,
   "metadata": {
    "colab": {
     "base_uri": "https://localhost:8080/"
    },
    "id": "qlh3IUzfJ3_I",
    "outputId": "21e111b4-738f-4952-80a2-9ae1af67fabd"
   },
   "outputs": [
    {
     "name": "stdout",
     "output_type": "stream",
     "text": [
      "+-------+-----------------+\n",
      "|  track|track_play_number|\n",
      "+-------+-----------------+\n",
      "|  Intro|            13176|\n",
      "|   Home|             7576|\n",
      "|  Hello|             6961|\n",
      "|Hold On|             5857|\n",
      "|   Work|             4889|\n",
      "|  Sorry|             4824|\n",
      "|   Baby|             4646|\n",
      "|Runaway|             4429|\n",
      "| Closer|             4287|\n",
      "|   Fire|             4141|\n",
      "+-------+-----------------+\n",
      "only showing top 10 rows\n",
      "\n"
     ]
    }
   ],
   "source": [
    "listening_df.select('track').groupby('track').agg(count('track').alias('track_play_number')).orderBy(desc('track_play_number')).show(10)"
   ]
  },
  {
   "cell_type": "code",
   "execution_count": null,
   "metadata": {
    "colab": {
     "base_uri": "https://localhost:8080/"
    },
    "id": "wG5Shg6urIl4",
    "outputId": "8d4ff462-0ddc-4dea-e6c0-b7e737fd211c"
   },
   "outputs": [
    {
     "name": "stdout",
     "output_type": "stream",
     "text": [
      "+----------------+--------------+-----+\n",
      "|           track|        artist|count|\n",
      "+----------------+--------------+-----+\n",
      "|           Sorry| Justin Bieber| 3381|\n",
      "|Do I Wanna Know?|Arctic Monkeys| 2865|\n",
      "|     Skinny Love|      Bon Iver| 2836|\n",
      "|      PILLOWTALK|          Zayn| 2701|\n",
      "|   Mr Brightside|   The Killers| 2690|\n",
      "|            Work|       Rihanna| 2646|\n",
      "|         Pompeii|      Bastille| 2606|\n",
      "| Little Lion Man|Mumford & Sons| 2520|\n",
      "|        The Cave|Mumford & Sons| 2485|\n",
      "|   Love Yourself| Justin Bieber| 2481|\n",
      "+----------------+--------------+-----+\n",
      "only showing top 10 rows\n",
      "\n"
     ]
    }
   ],
   "source": [
    "# or by using both artist and track\n",
    "\n",
    "listening_df.select('track','artist').groupby('track','artist').agg(count('*').alias('count')).orderBy(desc('count')).show(10)"
   ]
  },
  {
   "cell_type": "markdown",
   "metadata": {
    "id": "HqhPhQvjeXt0"
   },
   "source": [
    "### Top 10 famous tracks of ***Rihanna*** "
   ]
  },
  {
   "cell_type": "code",
   "execution_count": null,
   "metadata": {
    "colab": {
     "base_uri": "https://localhost:8080/"
    },
    "id": "D_npmdh1ec8y",
    "outputId": "760b374a-06c7-44d3-eb2a-e7c151c98250"
   },
   "outputs": [
    {
     "name": "stdout",
     "output_type": "stream",
     "text": [
      "+--------------------+-----+\n",
      "|               track|count|\n",
      "+--------------------+-----+\n",
      "|                Work| 2646|\n",
      "|Only Girl (In the...| 1749|\n",
      "|We Found Love (fe...| 1575|\n",
      "|                 S&M| 1307|\n",
      "|            Rude Boy| 1303|\n",
      "|            Diamonds| 1224|\n",
      "|      Kiss it Better|  945|\n",
      "| Where Have You Been|  844|\n",
      "|Cheers (Drink to ...|  697|\n",
      "|           Needed Me|  679|\n",
      "+--------------------+-----+\n",
      "only showing top 10 rows\n",
      "\n"
     ]
    }
   ],
   "source": [
    "listening_df.select('artist', 'track').filter(listening_df['artist']=='Rihanna').groupby('track').agg(count('track').alias('count')).orderBy(desc('count')).show(10)"
   ]
  },
  {
   "cell_type": "markdown",
   "metadata": {
    "id": "E6pgcH0p1ZXo"
   },
   "source": [
    "### Top 10 famous albums "
   ]
  },
  {
   "cell_type": "code",
   "execution_count": null,
   "metadata": {
    "colab": {
     "base_uri": "https://localhost:8080/"
    },
    "id": "c5YHm6yKenE7",
    "outputId": "cf9f8a21-2ee6-46f4-cdab-6e1ba709e6b0"
   },
   "outputs": [
    {
     "name": "stdout",
     "output_type": "stream",
     "text": [
      "+--------------------+--------------------+-----+\n",
      "|               album|              artist|count|\n",
      "+--------------------+--------------------+-----+\n",
      "|   The Life Of Pablo|          Kanye West|22310|\n",
      "|                  xx|              The xx|14195|\n",
      "|                  AM|      Arctic Monkeys|14090|\n",
      "|     An Awesome Wave|               alt-J|13635|\n",
      "|        Sigh No More|      Mumford & Sons|13543|\n",
      "|Whatever People S...|      Arctic Monkeys|12731|\n",
      "|            For Emma|            Bon Iver|11994|\n",
      "|          Art Angels|              Grimes|11655|\n",
      "|               Lungs|Florence + the Ma...|11362|\n",
      "|                  21|               Adele|11215|\n",
      "+--------------------+--------------------+-----+\n",
      "only showing top 10 rows\n",
      "\n"
     ]
    }
   ],
   "source": [
    "listening_df.select('artist','album').groupby('album','artist').agg(count('*').alias('count')).orderBy(desc('count')).show(10)"
   ]
  },
  {
   "cell_type": "code",
   "execution_count": null,
   "metadata": {
    "id": "tpXSrYfu14PB"
   },
   "outputs": [],
   "source": [
    "genre_df= spark.read.csv('/content/drive/MyDrive/dataset/genre.csv', header=True, inferSchema=True)"
   ]
  },
  {
   "cell_type": "code",
   "execution_count": null,
   "metadata": {
    "colab": {
     "base_uri": "https://localhost:8080/"
    },
    "id": "LJu4Ouz89O6_",
    "outputId": "9bcfeae0-e2ce-4598-ab04-8bd80199eb9a"
   },
   "outputs": [
    {
     "name": "stdout",
     "output_type": "stream",
     "text": [
      "+--------------------+-----+\n",
      "|              artist|genre|\n",
      "+--------------------+-----+\n",
      "|                Muse| rock|\n",
      "|             Nirvana| rock|\n",
      "|            Bon Jovi| rock|\n",
      "|          The Police| rock|\n",
      "|                Kiss| rock|\n",
      "|       Guns N' Roses| rock|\n",
      "|         Rusted Root| rock|\n",
      "|Katrina and the W...|  pop|\n",
      "|         The Beatles| rock|\n",
      "|        Hall & Oates|  pop|\n",
      "|        Otis Redding| soul|\n",
      "|         Marvin Gaye| soul|\n",
      "|     The Cranberries| rock|\n",
      "|            Survivor| rock|\n",
      "|       Fleetwood Mac|blues|\n",
      "|           Radiohead| rock|\n",
      "|                Toto| rock|\n",
      "|                  U2| rock|\n",
      "|Creedence Clearwa...| rock|\n",
      "|                 REM| rock|\n",
      "+--------------------+-----+\n",
      "only showing top 20 rows\n",
      "\n"
     ]
    }
   ],
   "source": [
    "genre_df.show()"
   ]
  },
  {
   "cell_type": "code",
   "execution_count": null,
   "metadata": {
    "colab": {
     "base_uri": "https://localhost:8080/"
    },
    "id": "drwFOE8ttuGa",
    "outputId": "8c5b862c-47cd-4f1b-cf96-7e46fb10f16d"
   },
   "outputs": [
    {
     "name": "stdout",
     "output_type": "stream",
     "text": [
      "(138432, 2)\n"
     ]
    }
   ],
   "source": [
    "shape= (genre_df.count(), len(genre_df.columns))\n",
    "\n",
    "print(shape)"
   ]
  },
  {
   "cell_type": "code",
   "execution_count": null,
   "metadata": {
    "colab": {
     "base_uri": "https://localhost:8080/"
    },
    "id": "9YINczrqtofp",
    "outputId": "1b014487-7a06-4117-8ae4-bb28f9c0ca71"
   },
   "outputs": [
    {
     "name": "stdout",
     "output_type": "stream",
     "text": [
      "+------------+-----------+--------------------+--------------------+--------------------+\n",
      "|      artist|    user_id|               track|               album|               genre|\n",
      "+------------+-----------+--------------------+--------------------+--------------------+\n",
      "|    Jessie J|000Silenced|           Price Tag|         Who You Are| Ariana Grande & ...|\n",
      "|    Jessie J|000Silenced|           Price Tag|         Who You Are| Jhene Aiko & Rixton|\n",
      "|    Jessie J|000Silenced|           Price Tag|         Who You Are| Nicki Minaj & Ar...|\n",
      "|    Jessie J|000Silenced|           Price Tag|         Who You Are|                 pop|\n",
      "|    Jessie J|000Silenced|Price Tag (Acoust...|           Price Tag| Ariana Grande & ...|\n",
      "|    Jessie J|000Silenced|Price Tag (Acoust...|           Price Tag| Jhene Aiko & Rixton|\n",
      "|    Jessie J|000Silenced|Price Tag (Acoust...|           Price Tag| Nicki Minaj & Ar...|\n",
      "|    Jessie J|000Silenced|Price Tag (Acoust...|           Price Tag|                 pop|\n",
      "|       Robyn|000Silenced|Be Mine! (Ballad ...|            Be Mine!|                 pop|\n",
      "|       Kelis|000Silenced|            Acapella|            Acapella|                 pop|\n",
      "|   The Tease|000Silenced|   I'm Not Invisible|   I'm Not Invisible|             hip hop|\n",
      "|    MSTRKRFT|000Silenced|Bounce (Feat NORE...|         Fist of God|          electronic|\n",
      "|     Rihanna|000Silenced|Don't Stop The Mu...|Addicted 2 Bassli...|                 SZA|\n",
      "|     Rihanna|000Silenced|Don't Stop The Mu...|Addicted 2 Bassli...| Paul McCartney &...|\n",
      "|     Rihanna|000Silenced|Don't Stop The Mu...|Addicted 2 Bassli...|          Kanye West|\n",
      "|     Rihanna|000Silenced|Don't Stop The Mu...|Addicted 2 Bassli...| Kanye West & Pau...|\n",
      "|     Rihanna|000Silenced|Don't Stop The Mu...|Addicted 2 Bassli...|                 pop|\n",
      "|   Meshuggah|000Silenced|               ObZen|               ObZen|               metal|\n",
      "|      Gojira|000Silenced|   Yama's Messengers|The Way of All Flesh|               metal|\n",
      "|Napalm Death|000Silenced|On the Brink of E...|Time Waits For No...|           grindcore|\n",
      "+------------+-----------+--------------------+--------------------+--------------------+\n",
      "only showing top 20 rows\n",
      "\n"
     ]
    }
   ],
   "source": [
    "data = listening_df.join(genre_df, how='inner', on='artist')\n",
    "data.show()"
   ]
  },
  {
   "cell_type": "markdown",
   "metadata": {
    "id": "yM_f5qILBNeI"
   },
   "source": [
    "### Top 10 users who are fan of ***pop*** music"
   ]
  },
  {
   "cell_type": "code",
   "execution_count": null,
   "metadata": {
    "colab": {
     "base_uri": "https://localhost:8080/"
    },
    "id": "dognQVlxBi2n",
    "outputId": "c7d49c21-926b-4edb-8da1-a7cf5dfe885c"
   },
   "outputs": [
    {
     "name": "stdout",
     "output_type": "stream",
     "text": [
      "+---------------+-----+---------+\n",
      "|        user_id|genre|pop_count|\n",
      "+---------------+-----+---------+\n",
      "|        01Green|  pop|      496|\n",
      "|      momousagi|  pop|      400|\n",
      "|          mrpsb|  pop|      400|\n",
      "|   BlueKnockOut|  pop|      378|\n",
      "|    musicboy80s|  pop|      376|\n",
      "|  incultojurgis|  pop|      374|\n",
      "| ElektricOrchid|  pop|      370|\n",
      "|foreign_fanatic|  pop|      350|\n",
      "|   Kevin_Soutar|  pop|      346|\n",
      "|  landrover2171|  pop|      301|\n",
      "+---------------+-----+---------+\n",
      "only showing top 10 rows\n",
      "\n"
     ]
    }
   ],
   "source": [
    "data.select('user_id','genre').filter(data['genre']=='pop').groupby('user_id','genre')\\\n",
    ".agg(count('genre').alias('pop_count')).orderBy(desc('pop_count')).show(10)"
   ]
  },
  {
   "cell_type": "markdown",
   "metadata": {
    "id": "63quzy7t-zb7"
   },
   "source": [
    "### Top 10 famous genres"
   ]
  },
  {
   "cell_type": "code",
   "execution_count": null,
   "metadata": {
    "colab": {
     "base_uri": "https://localhost:8080/"
    },
    "id": "aDFcoPPk-Rhf",
    "outputId": "961a07b2-5be4-42fa-c22e-8d544cc7deca"
   },
   "outputs": [
    {
     "name": "stdout",
     "output_type": "stream",
     "text": [
      "+----------+-----------+\n",
      "|     genre|genre_count|\n",
      "+----------+-----------+\n",
      "|      rock|    2691934|\n",
      "|       pop|    1544747|\n",
      "|electronic|     551509|\n",
      "|   hip hop|     532984|\n",
      "|      folk|     438174|\n",
      "|indie rock|     431439|\n",
      "|      punk|     380915|\n",
      "|       r&b|     344101|\n",
      "|     metal|     208107|\n",
      "|     indie|     206726|\n",
      "+----------+-----------+\n",
      "only showing top 10 rows\n",
      "\n"
     ]
    }
   ],
   "source": [
    "data.select('genre').groupby('genre').agg(count('genre')\\\n",
    ".alias('genre_count')).orderBy(desc('genre_count')).show(10)"
   ]
  },
  {
   "cell_type": "markdown",
   "metadata": {
    "id": "hrZOAWVgLMZo"
   },
   "source": [
    "### Find out each user favourite genre"
   ]
  },
  {
   "cell_type": "code",
   "execution_count": null,
   "metadata": {
    "colab": {
     "base_uri": "https://localhost:8080/"
    },
    "id": "H3AWxlkbLvCg",
    "outputId": "14c8ccef-6906-4fd2-eb7e-b20ff9828bd0"
   },
   "outputs": [
    {
     "name": "stdout",
     "output_type": "stream",
     "text": [
      "+-------+--------------------+-----+\n",
      "|user_id|               genre|count|\n",
      "+-------+--------------------+-----+\n",
      "| --Seph|               Bjorn|    8|\n",
      "| --Seph| brazilian pop music|    1|\n",
      "| --Seph| Snoop Dogg & Dev...|    4|\n",
      "| --Seph|        instrumental|    1|\n",
      "| --Seph|   Vladimir Spivakov|    1|\n",
      "| --Seph|               samba|    2|\n",
      "| --Seph|             ambient|    6|\n",
      "| --Seph| Sara Mingardo & ...|    1|\n",
      "| --Seph|             baroque|    1|\n",
      "| --Seph|     Hilko Schomerus|    1|\n",
      "| --Seph|      Kendrick Lamar|    4|\n",
      "| --Seph|             hip hop|    7|\n",
      "| --Seph|          electronic|    6|\n",
      "| --Seph|                rock|   27|\n",
      "| --Seph| London Symphony ...|    1|\n",
      "| --Seph|                fado|    1|\n",
      "| --Seph|          soundtrack|    1|\n",
      "| --Seph|              techno|    3|\n",
      "| --Seph|          french pop|    1|\n",
      "| --Seph|      Alice Sara Ott|    2|\n",
      "+-------+--------------------+-----+\n",
      "only showing top 20 rows\n",
      "\n"
     ]
    }
   ],
   "source": [
    "part1 = data.select('user_id', 'genre').groupby('user_id','genre').agg(count('*').alias('count')).orderBy('user_id')\n",
    "part1.show()"
   ]
  },
  {
   "cell_type": "code",
   "execution_count": null,
   "metadata": {
    "colab": {
     "base_uri": "https://localhost:8080/"
    },
    "id": "Soy2bMxQN-Ub",
    "outputId": "2233f8ef-d74d-476b-adbe-39324abbe5a5"
   },
   "outputs": [
    {
     "name": "stdout",
     "output_type": "stream",
     "text": [
      "+---------------+-----------+\n",
      "|        user_id|      genre|\n",
      "+---------------+-----------+\n",
      "|      --Shinn--|       rock|\n",
      "|       --ollz--|       rock|\n",
      "|     -Amnesiac-|      metal|\n",
      "|         -Bish-|       rock|\n",
      "|        -Danni-|       rock|\n",
      "|          -DeWp|    hip hop|\n",
      "|      -Faction-|       rock|\n",
      "|-February-Star-|       rock|\n",
      "|        -Gemma-|british pop|\n",
      "|   -Gingergirl-|        pop|\n",
      "|        -Hazel-|   synthpop|\n",
      "|        -Heiko-| electronic|\n",
      "|         -Katie|      lo-fi|\n",
      "|      -Krystal-|       rock|\n",
      "|         -Mark-| indie rock|\n",
      "|       -Mullet-|  metalcore|\n",
      "|          -Robs|       rock|\n",
      "| -SleepingStar-|black metal|\n",
      "|      -Stifler-|       rock|\n",
      "|  -Toxic-Waste-|  aggrotech|\n",
      "+---------------+-----------+\n",
      "only showing top 20 rows\n",
      "\n"
     ]
    }
   ],
   "source": [
    "part2 = part1.groupby('user_id').agg(max(struct(col('count'),col('genre'))).alias('max'))\\\n",
    ".select(col('user_id'),col('max.genre'))\n",
    "part2.show()"
   ]
  },
  {
   "cell_type": "markdown",
   "metadata": {
    "id": "6oIyhOHkCDuv"
   },
   "source": [
    "### How many pop,rock,metal and hip hop singers we have and then visulize it using bar chart "
   ]
  },
  {
   "cell_type": "code",
   "execution_count": null,
   "metadata": {
    "colab": {
     "base_uri": "https://localhost:8080/"
    },
    "id": "7_lEjNKVCDJv",
    "outputId": "c9662ae8-5a01-4be9-e3b4-491610cc604b"
   },
   "outputs": [
    {
     "name": "stdout",
     "output_type": "stream",
     "text": [
      "+-------+-----------+\n",
      "|  genre|genre_count|\n",
      "+-------+-----------+\n",
      "|   rock|       9066|\n",
      "|    pop|       6960|\n",
      "|hip hop|       4288|\n",
      "|  metal|       1854|\n",
      "+-------+-----------+\n",
      "\n"
     ]
    }
   ],
   "source": [
    "genre_count = genre_df.select('genre').filter((col('genre')=='pop') |\\\n",
    "(col('genre')=='rock') | (col('genre')=='metal') | (col('genre')=='hip hop'))\\\n",
    ".groupBy('genre').agg(count('genre').alias('genre_count')).orderBy(desc('genre_count'))\n",
    "\n",
    "genre_count.show()"
   ]
  },
  {
   "cell_type": "code",
   "execution_count": null,
   "metadata": {
    "colab": {
     "base_uri": "https://localhost:8080/"
    },
    "id": "J-n8gOC0Imj5",
    "outputId": "2ce45978-a99a-484d-fbd6-1fab1f2ccd1e"
   },
   "outputs": [
    {
     "data": {
      "text/plain": [
       "[Row(genre='rock', genre_count=9066),\n",
       " Row(genre='pop', genre_count=6960),\n",
       " Row(genre='hip hop', genre_count=4288),\n",
       " Row(genre='metal', genre_count=1854)]"
      ]
     },
     "execution_count": 51,
     "metadata": {},
     "output_type": "execute_result"
    }
   ],
   "source": [
    "genre_list = genre_count.collect()\n",
    "genre_list"
   ]
  },
  {
   "cell_type": "code",
   "execution_count": null,
   "metadata": {
    "id": "CMigHLrEQgKv"
   },
   "outputs": [],
   "source": [
    "labels = [row['genre'] for row in genre_list]\n",
    "values= [row['genre_count'] for row in genre_list]"
   ]
  },
  {
   "cell_type": "code",
   "execution_count": null,
   "metadata": {
    "colab": {
     "base_uri": "https://localhost:8080/"
    },
    "id": "FYLE4Mbu_Lbu",
    "outputId": "a50dc51c-e6b0-4d5e-8d3c-fdd71adf824b"
   },
   "outputs": [
    {
     "name": "stdout",
     "output_type": "stream",
     "text": [
      "['rock', 'pop', 'hip hop', 'metal']\n",
      "[9066, 6960, 4288, 1854]\n"
     ]
    }
   ],
   "source": [
    "print(labels)\n",
    "print(values)"
   ]
  },
  {
   "cell_type": "markdown",
   "metadata": {
    "id": "1iDrvEwYQ4AE"
   },
   "source": [
    "now lets visualize these two lists using a bar chart"
   ]
  },
  {
   "cell_type": "code",
   "execution_count": null,
   "metadata": {
    "colab": {
     "base_uri": "https://localhost:8080/",
     "height": 374
    },
    "id": "XOOq1U9BQjKI",
    "outputId": "52381877-1638-4683-aec4-f7e2440c8939"
   },
   "outputs": [
    {
     "data": {
      "image/png": "[encoded data removed]",
      "text/plain": [
       "<Figure size 576x432 with 1 Axes>"
      ]
     },
     "metadata": {
      "needs_background": "light"
     },
     "output_type": "display_data"
    }
   ],
   "source": [
    "plt.figure(figsize=(8,6))\n",
    "plt.bar(labels,values);"
   ]
  }
 ],
 "metadata": {
  "colab": {
   "collapsed_sections": [
    "F2YNhXuUwGNl"
   ],
   "name": "The_Notebook.ipynb",
   "provenance": []
  },
  "kernelspec": {
   "display_name": "Python 3 (ipykernel)",
   "language": "python",
   "name": "python3"
  },
  "language_info": {
   "codemirror_mode": {
    "name": "ipython",
    "version": 3
   },
   "file_extension": ".py",
   "mimetype": "text/x-python",
   "name": "python",
   "nbconvert_exporter": "python",
   "pygments_lexer": "ipython3",
   "version": "3.9.7"
  }
 },
 "nbformat": 4,
 "nbformat_minor": 4
}
