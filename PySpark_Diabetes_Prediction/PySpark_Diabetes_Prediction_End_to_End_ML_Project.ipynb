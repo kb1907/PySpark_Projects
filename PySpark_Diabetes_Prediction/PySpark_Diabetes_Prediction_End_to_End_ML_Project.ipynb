{
 "cells": [
  {
   "cell_type": "markdown",
   "metadata": {
    "id": "Snq4iq_JOB4T"
   },
   "source": [
    "# PySpark - Diabetes Prediction - End to End ML Project"
   ]
  },
  {
   "cell_type": "markdown",
   "metadata": {},
   "source": [
    "![](https://miro.medium.com/max/500/1*5C4UQznqEiN3D6Xutlgwlg.png)"
   ]
  },
  {
   "cell_type": "code",
   "execution_count": 1,
   "metadata": {
    "colab": {
     "base_uri": "https://localhost:8080/"
    },
    "id": "NpCRBcqtN5lH",
    "outputId": "e6b55733-6110-4861-fcc0-f8dc136738c9"
   },
   "outputs": [
    {
     "name": "stdout",
     "output_type": "stream",
     "text": [
      "Collecting pyspark\n",
      "  Downloading pyspark-3.2.0.tar.gz (281.3 MB)\n",
      "\u001b[K     |████████████████████████████████| 281.3 MB 37 kB/s \n",
      "\u001b[?25hCollecting py4j==0.10.9.2\n",
      "  Downloading py4j-0.10.9.2-py2.py3-none-any.whl (198 kB)\n",
      "\u001b[K     |████████████████████████████████| 198 kB 42.8 MB/s \n",
      "\u001b[?25hBuilding wheels for collected packages: pyspark\n",
      "  Building wheel for pyspark (setup.py) ... \u001b[?25l\u001b[?25hdone\n",
      "  Created wheel for pyspark: filename=pyspark-3.2.0-py2.py3-none-any.whl size=281805912 sha256=d94a041f6f18647e5ef36d6436473c8bf179b40999d04287fe270f9539e04a3a\n",
      "  Stored in directory: /root/.cache/pip/wheels/0b/de/d2/9be5d59d7331c6c2a7c1b6d1a4f463ce107332b1ecd4e80718\n",
      "Successfully built pyspark\n",
      "Installing collected packages: py4j, pyspark\n",
      "Successfully installed py4j-0.10.9.2 pyspark-3.2.0\n"
     ]
    }
   ],
   "source": [
    "! pip install pyspark"
   ]
  },
  {
   "cell_type": "code",
   "execution_count": 2,
   "metadata": {
    "id": "GNZoOuDqOdxX"
   },
   "outputs": [],
   "source": [
    "from pyspark.sql import SparkSession\n",
    "spark = SparkSession.builder.appName('spark').getOrCreate()"
   ]
  },
  {
   "cell_type": "code",
   "execution_count": 3,
   "metadata": {
    "colab": {
     "base_uri": "https://localhost:8080/"
    },
    "id": "-Uh5H7_KOoSL",
    "outputId": "90da274b-143d-450e-9933-e6034948de3b"
   },
   "outputs": [
    {
     "name": "stdout",
     "output_type": "stream",
     "text": [
      "Cloning into 'diabetes_dataset'...\n",
      "remote: Enumerating objects: 6, done.\u001b[K\n",
      "remote: Counting objects: 100% (6/6), done.\u001b[K\n",
      "remote: Compressing objects: 100% (5/5), done.\u001b[K\n",
      "remote: Total 6 (delta 0), reused 0 (delta 0), pack-reused 0\u001b[K\n",
      "Unpacking objects: 100% (6/6), done.\n"
     ]
    }
   ],
   "source": [
    "! git clone https://github.com/education454/diabetes_dataset"
   ]
  },
  {
   "cell_type": "code",
   "execution_count": 5,
   "metadata": {
    "id": "ST1rFFOlOu8s"
   },
   "outputs": [],
   "source": [
    "df = spark.read.csv('/content/diabetes_dataset/diabetes.csv', header=True, inferSchema=True)"
   ]
  },
  {
   "cell_type": "code",
   "execution_count": 6,
   "metadata": {
    "colab": {
     "base_uri": "https://localhost:8080/"
    },
    "id": "IiJm-pmROvKd",
    "outputId": "c0e2fd5c-5e12-4c1e-f1f4-3b3b93a70dfa"
   },
   "outputs": [
    {
     "name": "stdout",
     "output_type": "stream",
     "text": [
      "+-----------+-------+-------------+-------------+-------+----+------------------------+---+-------+\n",
      "|Pregnancies|Glucose|BloodPressure|SkinThickness|Insulin| BMI|DiabetesPedigreeFunction|Age|Outcome|\n",
      "+-----------+-------+-------------+-------------+-------+----+------------------------+---+-------+\n",
      "|          2|    138|           62|           35|      0|33.6|                   0.127| 47|      1|\n",
      "|          0|     84|           82|           31|    125|38.2|                   0.233| 23|      0|\n",
      "|          0|    145|            0|            0|      0|44.2|                    0.63| 31|      1|\n",
      "|          0|    135|           68|           42|    250|42.3|                   0.365| 24|      1|\n",
      "|          1|    139|           62|           41|    480|40.7|                   0.536| 21|      0|\n",
      "|          0|    173|           78|           32|    265|46.5|                   1.159| 58|      0|\n",
      "|          4|     99|           72|           17|      0|25.6|                   0.294| 28|      0|\n",
      "|          8|    194|           80|            0|      0|26.1|                   0.551| 67|      0|\n",
      "|          2|     83|           65|           28|     66|36.8|                   0.629| 24|      0|\n",
      "|          2|     89|           90|           30|      0|33.5|                   0.292| 42|      0|\n",
      "|          4|     99|           68|           38|      0|32.8|                   0.145| 33|      0|\n",
      "|          4|    125|           70|           18|    122|28.9|                   1.144| 45|      1|\n",
      "|          3|     80|            0|            0|      0| 0.0|                   0.174| 22|      0|\n",
      "|          6|    166|           74|            0|      0|26.6|                   0.304| 66|      0|\n",
      "|          5|    110|           68|            0|      0|26.0|                   0.292| 30|      0|\n",
      "|          2|     81|           72|           15|     76|30.1|                   0.547| 25|      0|\n",
      "|          7|    195|           70|           33|    145|25.1|                   0.163| 55|      1|\n",
      "|          6|    154|           74|           32|    193|29.3|                   0.839| 39|      0|\n",
      "|          2|    117|           90|           19|     71|25.2|                   0.313| 21|      0|\n",
      "|          3|     84|           72|           32|      0|37.2|                   0.267| 28|      0|\n",
      "+-----------+-------+-------------+-------------+-------+----+------------------------+---+-------+\n",
      "only showing top 20 rows\n",
      "\n"
     ]
    }
   ],
   "source": [
    "df.show()"
   ]
  },
  {
   "cell_type": "code",
   "execution_count": 9,
   "metadata": {
    "colab": {
     "base_uri": "https://localhost:8080/"
    },
    "id": "Ulqkuz8aOvV6",
    "outputId": "d046c6f3-424b-4fca-87b2-e2b48391880a"
   },
   "outputs": [
    {
     "name": "stdout",
     "output_type": "stream",
     "text": [
      "root\n",
      " |-- Pregnancies: integer (nullable = true)\n",
      " |-- Glucose: integer (nullable = true)\n",
      " |-- BloodPressure: integer (nullable = true)\n",
      " |-- SkinThickness: integer (nullable = true)\n",
      " |-- Insulin: integer (nullable = true)\n",
      " |-- BMI: double (nullable = true)\n",
      " |-- DiabetesPedigreeFunction: double (nullable = true)\n",
      " |-- Age: integer (nullable = true)\n",
      " |-- Outcome: integer (nullable = true)\n",
      "\n"
     ]
    }
   ],
   "source": [
    "df.printSchema()"
   ]
  },
  {
   "cell_type": "code",
   "execution_count": 10,
   "metadata": {
    "colab": {
     "base_uri": "https://localhost:8080/"
    },
    "id": "kpZlF2S2Ovgw",
    "outputId": "4f7c10da-87d9-47c5-efbe-f925da55ccee"
   },
   "outputs": [
    {
     "name": "stdout",
     "output_type": "stream",
     "text": [
      "(2000, 9)\n"
     ]
    }
   ],
   "source": [
    "print((df.count(), len(df.columns)))"
   ]
  },
  {
   "cell_type": "code",
   "execution_count": 12,
   "metadata": {
    "colab": {
     "base_uri": "https://localhost:8080/"
    },
    "id": "G8HcSuw1tyF6",
    "outputId": "7e2e2a28-8091-4202-8b6c-d7dcb6cc6eed"
   },
   "outputs": [
    {
     "name": "stdout",
     "output_type": "stream",
     "text": [
      "+-------+-----+\n",
      "|Outcome|count|\n",
      "+-------+-----+\n",
      "|      1|  684|\n",
      "|      0| 1316|\n",
      "+-------+-----+\n",
      "\n"
     ]
    }
   ],
   "source": [
    "df.groupby('Outcome').count().show()"
   ]
  },
  {
   "cell_type": "code",
   "execution_count": 13,
   "metadata": {
    "colab": {
     "base_uri": "https://localhost:8080/"
    },
    "id": "NewCNZEMOvtM",
    "outputId": "0dd29435-a164-4f2b-8f95-5a3c8649877d"
   },
   "outputs": [
    {
     "name": "stdout",
     "output_type": "stream",
     "text": [
      "+-------+-----------------+------------------+------------------+-----------------+-----------------+------------------+------------------------+------------------+------------------+\n",
      "|summary|      Pregnancies|           Glucose|     BloodPressure|    SkinThickness|          Insulin|               BMI|DiabetesPedigreeFunction|               Age|           Outcome|\n",
      "+-------+-----------------+------------------+------------------+-----------------+-----------------+------------------+------------------------+------------------+------------------+\n",
      "|  count|             2000|              2000|              2000|             2000|             2000|              2000|                    2000|              2000|              2000|\n",
      "|   mean|           3.7035|          121.1825|           69.1455|           20.935|           80.254|32.192999999999984|     0.47092999999999974|           33.0905|             0.342|\n",
      "| stddev|3.306063032730656|32.068635649902916|19.188314815604098|16.10324290992682|111.1805335457595| 8.149900701279762|      0.3235525586811429|11.786423106049496|0.4744982342297426|\n",
      "|    min|                0|                 0|                 0|                0|                0|               0.0|                   0.078|                21|                 0|\n",
      "|    max|               17|               199|               122|              110|              744|              80.6|                    2.42|                81|                 1|\n",
      "+-------+-----------------+------------------+------------------+-----------------+-----------------+------------------+------------------------+------------------+------------------+\n",
      "\n"
     ]
    }
   ],
   "source": [
    "df.describe().show()"
   ]
  },
  {
   "cell_type": "markdown",
   "metadata": {
    "id": "gZerPOR-OyjQ"
   },
   "source": [
    "### Data Cleaning & Preparation"
   ]
  },
  {
   "cell_type": "code",
   "execution_count": 15,
   "metadata": {
    "colab": {
     "base_uri": "https://localhost:8080/"
    },
    "id": "Q-KkJvV_PFFU",
    "outputId": "bbfe5930-f83e-4e5f-db5c-f17ec164f0e0"
   },
   "outputs": [
    {
     "name": "stdout",
     "output_type": "stream",
     "text": [
      "Pregnancies: 0\n",
      "Glucose: 0\n",
      "BloodPressure: 0\n",
      "SkinThickness: 0\n",
      "Insulin: 0\n",
      "BMI: 0\n",
      "DiabetesPedigreeFunction: 0\n",
      "Age: 0\n",
      "Outcome: 0\n"
     ]
    }
   ],
   "source": [
    "for col in df.columns:\n",
    "  print(col + \":\" , df[df[col].isNull()].count())"
   ]
  },
  {
   "cell_type": "code",
   "execution_count": 16,
   "metadata": {
    "id": "ZJsbgwZMPFQC"
   },
   "outputs": [],
   "source": [
    "def count_zeros():\n",
    "  columns_list  = ['Glucose','BloodPressure','SkinThickness', 'Insulin','BMI']\n",
    "  for col in columns_list:\n",
    "    print(col + ':', df[df[col]==0].count() )"
   ]
  },
  {
   "cell_type": "code",
   "execution_count": 17,
   "metadata": {
    "colab": {
     "base_uri": "https://localhost:8080/"
    },
    "id": "pcXTErb9PFbo",
    "outputId": "cf9fbe66-72ce-43a6-de7b-14527ce20b8f"
   },
   "outputs": [
    {
     "name": "stdout",
     "output_type": "stream",
     "text": [
      "Glucose: 13\n",
      "BloodPressure: 90\n",
      "SkinThickness: 573\n",
      "Insulin: 956\n",
      "BMI: 28\n"
     ]
    }
   ],
   "source": [
    "count_zeros()"
   ]
  },
  {
   "cell_type": "code",
   "execution_count": 18,
   "metadata": {
    "id": "jbFeGvy3v4VA"
   },
   "outputs": [],
   "source": [
    "from pyspark.sql.functions import *"
   ]
  },
  {
   "cell_type": "code",
   "execution_count": 24,
   "metadata": {
    "colab": {
     "base_uri": "https://localhost:8080/"
    },
    "id": "9-f7NLurv8Lu",
    "outputId": "33849f6b-ebd0-4084-d3b6-42c1994862fe"
   },
   "outputs": [
    {
     "data": {
      "text/plain": [
       "32.192999999999984"
      ]
     },
     "execution_count": 24,
     "metadata": {},
     "output_type": "execute_result"
    }
   ],
   "source": [
    "df.agg({'BMI':'mean'}).first()[0]"
   ]
  },
  {
   "cell_type": "code",
   "execution_count": 27,
   "metadata": {
    "colab": {
     "base_uri": "https://localhost:8080/"
    },
    "id": "VXemdtaPPFmA",
    "outputId": "427165fd-9d57-4df6-dcb7-1d72888cb1e3"
   },
   "outputs": [
    {
     "name": "stdout",
     "output_type": "stream",
     "text": [
      "Mean value for Glucose is 121\n",
      "Mean value for BloodPressure is 69\n",
      "Mean value for SkinThickness is 20\n",
      "Mean value for Insulin is 80\n",
      "Mean value for BMI is 32\n"
     ]
    }
   ],
   "source": [
    "for col in df.columns[1:6]:\n",
    "  data = df.agg({col:'mean'}).first()[0]\n",
    "  print(f'Mean value for {col} is {int(data)}')\n",
    "  df = df.withColumn(col, when(df[col]== 0, int(data)).otherwise(df[col]))"
   ]
  },
  {
   "cell_type": "code",
   "execution_count": 28,
   "metadata": {
    "colab": {
     "base_uri": "https://localhost:8080/"
    },
    "id": "C0bk0Ps_PFwk",
    "outputId": "df3902b7-4fcc-4554-ea75-09918ed97136"
   },
   "outputs": [
    {
     "name": "stdout",
     "output_type": "stream",
     "text": [
      "+-----------+-------+-------------+-------------+-------+----+------------------------+---+-------+\n",
      "|Pregnancies|Glucose|BloodPressure|SkinThickness|Insulin| BMI|DiabetesPedigreeFunction|Age|Outcome|\n",
      "+-----------+-------+-------------+-------------+-------+----+------------------------+---+-------+\n",
      "|          2|    138|           62|           35|     80|33.6|                   0.127| 47|      1|\n",
      "|          0|     84|           82|           31|    125|38.2|                   0.233| 23|      0|\n",
      "|          0|    145|           69|           20|     80|44.2|                    0.63| 31|      1|\n",
      "|          0|    135|           68|           42|    250|42.3|                   0.365| 24|      1|\n",
      "|          1|    139|           62|           41|    480|40.7|                   0.536| 21|      0|\n",
      "|          0|    173|           78|           32|    265|46.5|                   1.159| 58|      0|\n",
      "|          4|     99|           72|           17|     80|25.6|                   0.294| 28|      0|\n",
      "|          8|    194|           80|           20|     80|26.1|                   0.551| 67|      0|\n",
      "|          2|     83|           65|           28|     66|36.8|                   0.629| 24|      0|\n",
      "|          2|     89|           90|           30|     80|33.5|                   0.292| 42|      0|\n",
      "|          4|     99|           68|           38|     80|32.8|                   0.145| 33|      0|\n",
      "|          4|    125|           70|           18|    122|28.9|                   1.144| 45|      1|\n",
      "|          3|     80|           69|           20|     80|32.0|                   0.174| 22|      0|\n",
      "|          6|    166|           74|           20|     80|26.6|                   0.304| 66|      0|\n",
      "|          5|    110|           68|           20|     80|26.0|                   0.292| 30|      0|\n",
      "|          2|     81|           72|           15|     76|30.1|                   0.547| 25|      0|\n",
      "|          7|    195|           70|           33|    145|25.1|                   0.163| 55|      1|\n",
      "|          6|    154|           74|           32|    193|29.3|                   0.839| 39|      0|\n",
      "|          2|    117|           90|           19|     71|25.2|                   0.313| 21|      0|\n",
      "|          3|     84|           72|           32|     80|37.2|                   0.267| 28|      0|\n",
      "+-----------+-------+-------------+-------------+-------+----+------------------------+---+-------+\n",
      "only showing top 20 rows\n",
      "\n"
     ]
    }
   ],
   "source": [
    "df.show()"
   ]
  },
  {
   "cell_type": "markdown",
   "metadata": {
    "id": "LOgSTdBpPs7G"
   },
   "source": [
    "### Correlation Analysis & Feature Selection"
   ]
  },
  {
   "cell_type": "code",
   "execution_count": 36,
   "metadata": {
    "colab": {
     "base_uri": "https://localhost:8080/"
    },
    "id": "7Eq6jdcFP_3C",
    "outputId": "b3e2aab7-0766-4154-edba-22e2dcde7d30"
   },
   "outputs": [
    {
     "name": "stdout",
     "output_type": "stream",
     "text": [
      "Correlation to target for Pregnancies feature is 0.22443699263363961\n",
      "Correlation to target for Glucose feature is 0.48796646527321064\n",
      "Correlation to target for BloodPressure feature is 0.17171333286446713\n",
      "Correlation to target for SkinThickness feature is 0.1659010662889893\n",
      "Correlation to target for Insulin feature is 0.1711763270226193\n",
      "Correlation to target for BMI feature is 0.2827927569760082\n",
      "Correlation to target for DiabetesPedigreeFunction feature is 0.1554590791569403\n",
      "Correlation to target for Age feature is 0.23650924717620253\n"
     ]
    }
   ],
   "source": [
    "for col in df.columns[:8]:\n",
    "  print(f'Correlation to target for {col} feature is {df.stat.corr(\"Outcome\", col)}')"
   ]
  },
  {
   "cell_type": "code",
   "execution_count": 38,
   "metadata": {
    "id": "Fl7Edj-OQACn"
   },
   "outputs": [],
   "source": [
    "from pyspark.ml.feature import VectorAssembler\n",
    "assembler = VectorAssembler(inputCols=['Pregnancies','Glucose','BloodPressure',\n",
    "                                       'SkinThickness','Insulin','BMI',\n",
    "                                       'DiabetesPedigreeFunction','Age'],\n",
    "                            outputCol='features')\n",
    "output_data = assembler.transform(df)"
   ]
  },
  {
   "cell_type": "code",
   "execution_count": 39,
   "metadata": {
    "colab": {
     "base_uri": "https://localhost:8080/"
    },
    "id": "mJKrfqdaQAOy",
    "outputId": "ab9be128-32da-4c8a-93a8-a651877ba171"
   },
   "outputs": [
    {
     "name": "stdout",
     "output_type": "stream",
     "text": [
      "root\n",
      " |-- Pregnancies: integer (nullable = true)\n",
      " |-- Glucose: integer (nullable = true)\n",
      " |-- BloodPressure: integer (nullable = true)\n",
      " |-- SkinThickness: integer (nullable = true)\n",
      " |-- Insulin: integer (nullable = true)\n",
      " |-- BMI: double (nullable = true)\n",
      " |-- DiabetesPedigreeFunction: double (nullable = true)\n",
      " |-- Age: integer (nullable = true)\n",
      " |-- Outcome: integer (nullable = true)\n",
      " |-- features: vector (nullable = true)\n",
      "\n"
     ]
    }
   ],
   "source": [
    "output_data.printSchema()"
   ]
  },
  {
   "cell_type": "code",
   "execution_count": 41,
   "metadata": {
    "colab": {
     "base_uri": "https://localhost:8080/"
    },
    "id": "FURl7qESQAaQ",
    "outputId": "cbfb9945-80bc-4cf3-88bc-005335f28be8"
   },
   "outputs": [
    {
     "name": "stdout",
     "output_type": "stream",
     "text": [
      "+-----------+-------+-------------+-------------+-------+----+------------------------+---+-------+--------------------+\n",
      "|Pregnancies|Glucose|BloodPressure|SkinThickness|Insulin| BMI|DiabetesPedigreeFunction|Age|Outcome|            features|\n",
      "+-----------+-------+-------------+-------------+-------+----+------------------------+---+-------+--------------------+\n",
      "|          2|    138|           62|           35|     80|33.6|                   0.127| 47|      1|[2.0,138.0,62.0,3...|\n",
      "|          0|     84|           82|           31|    125|38.2|                   0.233| 23|      0|[0.0,84.0,82.0,31...|\n",
      "|          0|    145|           69|           20|     80|44.2|                    0.63| 31|      1|[0.0,145.0,69.0,2...|\n",
      "|          0|    135|           68|           42|    250|42.3|                   0.365| 24|      1|[0.0,135.0,68.0,4...|\n",
      "|          1|    139|           62|           41|    480|40.7|                   0.536| 21|      0|[1.0,139.0,62.0,4...|\n",
      "|          0|    173|           78|           32|    265|46.5|                   1.159| 58|      0|[0.0,173.0,78.0,3...|\n",
      "|          4|     99|           72|           17|     80|25.6|                   0.294| 28|      0|[4.0,99.0,72.0,17...|\n",
      "|          8|    194|           80|           20|     80|26.1|                   0.551| 67|      0|[8.0,194.0,80.0,2...|\n",
      "|          2|     83|           65|           28|     66|36.8|                   0.629| 24|      0|[2.0,83.0,65.0,28...|\n",
      "|          2|     89|           90|           30|     80|33.5|                   0.292| 42|      0|[2.0,89.0,90.0,30...|\n",
      "|          4|     99|           68|           38|     80|32.8|                   0.145| 33|      0|[4.0,99.0,68.0,38...|\n",
      "|          4|    125|           70|           18|    122|28.9|                   1.144| 45|      1|[4.0,125.0,70.0,1...|\n",
      "|          3|     80|           69|           20|     80|32.0|                   0.174| 22|      0|[3.0,80.0,69.0,20...|\n",
      "|          6|    166|           74|           20|     80|26.6|                   0.304| 66|      0|[6.0,166.0,74.0,2...|\n",
      "|          5|    110|           68|           20|     80|26.0|                   0.292| 30|      0|[5.0,110.0,68.0,2...|\n",
      "|          2|     81|           72|           15|     76|30.1|                   0.547| 25|      0|[2.0,81.0,72.0,15...|\n",
      "|          7|    195|           70|           33|    145|25.1|                   0.163| 55|      1|[7.0,195.0,70.0,3...|\n",
      "|          6|    154|           74|           32|    193|29.3|                   0.839| 39|      0|[6.0,154.0,74.0,3...|\n",
      "|          2|    117|           90|           19|     71|25.2|                   0.313| 21|      0|[2.0,117.0,90.0,1...|\n",
      "|          3|     84|           72|           32|     80|37.2|                   0.267| 28|      0|[3.0,84.0,72.0,32...|\n",
      "+-----------+-------+-------------+-------------+-------+----+------------------------+---+-------+--------------------+\n",
      "only showing top 20 rows\n",
      "\n"
     ]
    }
   ],
   "source": [
    "output_data.show()"
   ]
  },
  {
   "cell_type": "markdown",
   "metadata": {
    "id": "8fSjOdfyQA99"
   },
   "source": [
    "### Build the Model"
   ]
  },
  {
   "cell_type": "code",
   "execution_count": 46,
   "metadata": {
    "id": "F89--FiVQQJn"
   },
   "outputs": [],
   "source": [
    "from pyspark.ml.classification import LogisticRegression\n",
    "\n",
    "final_data = output_data.select(['features','Outcome'])"
   ]
  },
  {
   "cell_type": "code",
   "execution_count": 47,
   "metadata": {
    "colab": {
     "base_uri": "https://localhost:8080/"
    },
    "id": "cKpm5912Qji_",
    "outputId": "7e081491-bd89-428e-ef85-3647e69138a4"
   },
   "outputs": [
    {
     "name": "stdout",
     "output_type": "stream",
     "text": [
      "root\n",
      " |-- features: vector (nullable = true)\n",
      " |-- Outcome: integer (nullable = true)\n",
      "\n"
     ]
    }
   ],
   "source": [
    "final_data.printSchema()"
   ]
  },
  {
   "cell_type": "code",
   "execution_count": 48,
   "metadata": {
    "id": "r_Nom7aZQjuN"
   },
   "outputs": [],
   "source": [
    "train, test = final_data.randomSplit([0.7,0.3])\n",
    "models = LogisticRegression(labelCol='Outcome')\n",
    "model = models.fit(train)"
   ]
  },
  {
   "cell_type": "code",
   "execution_count": 49,
   "metadata": {
    "colab": {
     "base_uri": "https://localhost:8080/"
    },
    "id": "OljO2HcIQj7E",
    "outputId": "edac1b5e-ef7a-469f-869d-e71b23fa3c48"
   },
   "outputs": [
    {
     "name": "stderr",
     "output_type": "stream",
     "text": [
      "/usr/local/lib/python3.7/dist-packages/pyspark/sql/context.py:127: FutureWarning: Deprecated in 3.0.0. Use SparkSession.builder.getOrCreate() instead.\n",
      "  FutureWarning\n"
     ]
    },
    {
     "name": "stdout",
     "output_type": "stream",
     "text": [
      "+-------+-------------------+------------------+\n",
      "|summary|            Outcome|        prediction|\n",
      "+-------+-------------------+------------------+\n",
      "|  count|               1391|              1391|\n",
      "|   mean| 0.3465132997843278|0.2717469446441409|\n",
      "| stddev|0.47603018880143133|0.4450201312433866|\n",
      "|    min|                0.0|               0.0|\n",
      "|    max|                1.0|               1.0|\n",
      "+-------+-------------------+------------------+\n",
      "\n"
     ]
    }
   ],
   "source": [
    "summary = model.summary\n",
    "summary.predictions.describe().show()"
   ]
  },
  {
   "cell_type": "code",
   "execution_count": 53,
   "metadata": {
    "id": "CHC5Erq7Q4QN"
   },
   "outputs": [],
   "source": [
    "from pyspark.ml.evaluation import BinaryClassificationEvaluator\n",
    "\n",
    "predictions = model.evaluate(test)"
   ]
  },
  {
   "cell_type": "code",
   "execution_count": 56,
   "metadata": {
    "colab": {
     "base_uri": "https://localhost:8080/"
    },
    "id": "UBltVqoNQ4cM",
    "outputId": "307ee194-2897-4789-ff99-562ba24f5a78"
   },
   "outputs": [
    {
     "name": "stderr",
     "output_type": "stream",
     "text": [
      "/usr/local/lib/python3.7/dist-packages/pyspark/sql/context.py:127: FutureWarning: Deprecated in 3.0.0. Use SparkSession.builder.getOrCreate() instead.\n",
      "  FutureWarning\n"
     ]
    },
    {
     "name": "stdout",
     "output_type": "stream",
     "text": [
      "+--------------------+-------+--------------------+--------------------+----------+\n",
      "|            features|Outcome|       rawPrediction|         probability|prediction|\n",
      "+--------------------+-------+--------------------+--------------------+----------+\n",
      "|[0.0,57.0,60.0,20...|      0|[4.16146349442415...|[0.98465442365871...|       0.0|\n",
      "|[0.0,67.0,76.0,20...|      0|[2.73639021642181...|[0.93914010276732...|       0.0|\n",
      "|[0.0,73.0,69.0,20...|      0|[4.29546612897920...|[0.98655306782329...|       0.0|\n",
      "|[0.0,73.0,69.0,20...|      0|[4.29546612897920...|[0.98655306782329...|       0.0|\n",
      "|[0.0,74.0,52.0,10...|      0|[3.67057650725994...|[0.97517041869606...|       0.0|\n",
      "|[0.0,84.0,64.0,22...|      0|[2.49766171109847...|[0.92397773457682...|       0.0|\n",
      "|[0.0,91.0,68.0,32...|      0|[2.31110823260442...|[0.90979284906351...|       0.0|\n",
      "|[0.0,91.0,68.0,32...|      0|[2.31110823260442...|[0.90979284906351...|       0.0|\n",
      "|[0.0,93.0,60.0,25...|      0|[2.71879064041517...|[0.93812637330268...|       0.0|\n",
      "|[0.0,93.0,60.0,25...|      0|[2.71879064041517...|[0.93812637330268...|       0.0|\n",
      "+--------------------+-------+--------------------+--------------------+----------+\n",
      "only showing top 10 rows\n",
      "\n"
     ]
    }
   ],
   "source": [
    "predictions.predictions.show(10)"
   ]
  },
  {
   "cell_type": "code",
   "execution_count": 57,
   "metadata": {
    "colab": {
     "base_uri": "https://localhost:8080/"
    },
    "id": "A4BHCxCiQ4l-",
    "outputId": "2e97639b-213a-44ce-d0e3-e85a50b05321"
   },
   "outputs": [
    {
     "data": {
      "text/plain": [
       "0.819094071569319"
      ]
     },
     "execution_count": 57,
     "metadata": {},
     "output_type": "execute_result"
    }
   ],
   "source": [
    "evaluator = BinaryClassificationEvaluator(rawPredictionCol = 'rawPrediction', labelCol='Outcome')\n",
    "evaluator.evaluate(model.transform(test))"
   ]
  },
  {
   "cell_type": "code",
   "execution_count": 58,
   "metadata": {
    "id": "ERpRUFOHQ4x5"
   },
   "outputs": [],
   "source": [
    "model.save('model')"
   ]
  },
  {
   "cell_type": "code",
   "execution_count": 60,
   "metadata": {
    "id": "4zSA9_KCQ47W"
   },
   "outputs": [],
   "source": [
    "from pyspark.ml.classification import LogisticRegressionModel\n",
    "\n",
    "model2 = LogisticRegressionModel.load('model')"
   ]
  },
  {
   "cell_type": "code",
   "execution_count": 61,
   "metadata": {
    "id": "MBq2hq27RdHB"
   },
   "outputs": [],
   "source": [
    "df_test = spark.read.csv('/content/diabetes_dataset/new_test.csv', header=True, inferSchema=True)"
   ]
  },
  {
   "cell_type": "code",
   "execution_count": 63,
   "metadata": {
    "colab": {
     "base_uri": "https://localhost:8080/"
    },
    "id": "co8K0NZsRdQB",
    "outputId": "22037aaa-16fe-4c80-fa93-152b3418f94d"
   },
   "outputs": [
    {
     "name": "stdout",
     "output_type": "stream",
     "text": [
      "root\n",
      " |-- Pregnancies: integer (nullable = true)\n",
      " |-- Glucose: integer (nullable = true)\n",
      " |-- BloodPressure: integer (nullable = true)\n",
      " |-- SkinThickness: integer (nullable = true)\n",
      " |-- Insulin: integer (nullable = true)\n",
      " |-- BMI: double (nullable = true)\n",
      " |-- DiabetesPedigreeFunction: double (nullable = true)\n",
      " |-- Age: integer (nullable = true)\n",
      "\n"
     ]
    }
   ],
   "source": [
    "df_test.printSchema()"
   ]
  },
  {
   "cell_type": "code",
   "execution_count": 65,
   "metadata": {
    "id": "J7jtGf4lRdaz"
   },
   "outputs": [],
   "source": [
    "test_data = assembler.transform(df_test)"
   ]
  },
  {
   "cell_type": "code",
   "execution_count": 66,
   "metadata": {
    "colab": {
     "base_uri": "https://localhost:8080/"
    },
    "id": "kd1glzOnRdkq",
    "outputId": "4fcbb3bf-24e3-4f40-a516-fd54c5de9a2d"
   },
   "outputs": [
    {
     "name": "stdout",
     "output_type": "stream",
     "text": [
      "root\n",
      " |-- Pregnancies: integer (nullable = true)\n",
      " |-- Glucose: integer (nullable = true)\n",
      " |-- BloodPressure: integer (nullable = true)\n",
      " |-- SkinThickness: integer (nullable = true)\n",
      " |-- Insulin: integer (nullable = true)\n",
      " |-- BMI: double (nullable = true)\n",
      " |-- DiabetesPedigreeFunction: double (nullable = true)\n",
      " |-- Age: integer (nullable = true)\n",
      " |-- features: vector (nullable = true)\n",
      "\n"
     ]
    }
   ],
   "source": [
    "test_data.printSchema()"
   ]
  },
  {
   "cell_type": "code",
   "execution_count": 67,
   "metadata": {
    "colab": {
     "base_uri": "https://localhost:8080/"
    },
    "id": "40Dck7K_Rdxh",
    "outputId": "2fa989de-5025-4b89-9945-e1a59092be33"
   },
   "outputs": [
    {
     "name": "stdout",
     "output_type": "stream",
     "text": [
      "root\n",
      " |-- Pregnancies: integer (nullable = true)\n",
      " |-- Glucose: integer (nullable = true)\n",
      " |-- BloodPressure: integer (nullable = true)\n",
      " |-- SkinThickness: integer (nullable = true)\n",
      " |-- Insulin: integer (nullable = true)\n",
      " |-- BMI: double (nullable = true)\n",
      " |-- DiabetesPedigreeFunction: double (nullable = true)\n",
      " |-- Age: integer (nullable = true)\n",
      " |-- features: vector (nullable = true)\n",
      " |-- rawPrediction: vector (nullable = true)\n",
      " |-- probability: vector (nullable = true)\n",
      " |-- prediction: double (nullable = false)\n",
      "\n"
     ]
    }
   ],
   "source": [
    "results = model2.transform(test_data)\n",
    "results.printSchema()"
   ]
  },
  {
   "cell_type": "code",
   "execution_count": 69,
   "metadata": {
    "colab": {
     "base_uri": "https://localhost:8080/"
    },
    "id": "AHpfS2SjRd7s",
    "outputId": "f8571373-3ea7-4814-f917-e26590fdf061"
   },
   "outputs": [
    {
     "name": "stdout",
     "output_type": "stream",
     "text": [
      "+--------------------+----------+\n",
      "|            features|prediction|\n",
      "+--------------------+----------+\n",
      "|[1.0,190.0,78.0,3...|       1.0|\n",
      "|[0.0,80.0,84.0,36...|       0.0|\n",
      "|[2.0,138.0,82.0,4...|       1.0|\n",
      "|[1.0,110.0,63.0,4...|       1.0|\n",
      "+--------------------+----------+\n",
      "\n"
     ]
    }
   ],
   "source": [
    "results.select(['features','prediction']).show()"
   ]
  }
 ],
 "metadata": {
  "colab": {
   "collapsed_sections": [],
   "name": "Diabetes_Prediction.ipynb",
   "provenance": []
  },
  "kernelspec": {
   "display_name": "Python 3 (ipykernel)",
   "language": "python",
   "name": "python3"
  },
  "language_info": {
   "codemirror_mode": {
    "name": "ipython",
    "version": 3
   },
   "file_extension": ".py",
   "mimetype": "text/x-python",
   "name": "python",
   "nbconvert_exporter": "python",
   "pygments_lexer": "ipython3",
   "version": "3.9.7"
  }
 },
 "nbformat": 4,
 "nbformat_minor": 4
}
