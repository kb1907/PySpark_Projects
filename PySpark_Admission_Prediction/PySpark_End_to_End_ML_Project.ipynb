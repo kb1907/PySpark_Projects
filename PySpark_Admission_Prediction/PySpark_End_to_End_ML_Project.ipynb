{
 "cells": [
  {
   "cell_type": "markdown",
   "metadata": {
    "id": "rZtskxrQyg3e"
   },
   "source": [
    "# Admission Prediction with PySpark"
   ]
  },
  {
   "cell_type": "markdown",
   "metadata": {},
   "source": [
    "![](https://miro.medium.com/max/500/1*5C4UQznqEiN3D6Xutlgwlg.png)"
   ]
  },
  {
   "cell_type": "code",
   "execution_count": 5,
   "metadata": {
    "colab": {
     "base_uri": "https://localhost:8080/"
    },
    "executionInfo": {
     "elapsed": 52447,
     "status": "ok",
     "timestamp": 1639680085039,
     "user": {
      "displayName": "k b",
      "photoUrl": "https://lh3.googleusercontent.com/a/default-user=s64",
      "userId": "13188403408819520267"
     },
     "user_tz": -120
    },
    "id": "a9huiQF8yfIK",
    "outputId": "07101ffa-146a-4369-c858-6a01438633dc"
   },
   "outputs": [
    {
     "name": "stdout",
     "output_type": "stream",
     "text": [
      "Requirement already satisfied: pyspark in /Users/admin/opt/anaconda3/lib/python3.9/site-packages (3.2.0)\n",
      "Requirement already satisfied: py4j==0.10.9.2 in /Users/admin/opt/anaconda3/lib/python3.9/site-packages (from pyspark) (0.10.9.2)\n"
     ]
    }
   ],
   "source": [
    "! pip install pyspark"
   ]
  },
  {
   "cell_type": "code",
   "execution_count": null,
   "metadata": {
    "executionInfo": {
     "elapsed": 7337,
     "status": "ok",
     "timestamp": 1639680288823,
     "user": {
      "displayName": "k b",
      "photoUrl": "https://lh3.googleusercontent.com/a/default-user=s64",
      "userId": "13188403408819520267"
     },
     "user_tz": -120
    },
    "id": "1wZpO2gxy7Pt"
   },
   "outputs": [],
   "source": [
    "from pyspark.sql import SparkSession\n",
    "\n",
    "spark= SparkSession.builder.appName(\"ml_project\").getOrCreate()"
   ]
  },
  {
   "cell_type": "code",
   "execution_count": 7,
   "metadata": {
    "colab": {
     "base_uri": "https://localhost:8080/",
     "height": 219
    },
    "executionInfo": {
     "elapsed": 431,
     "status": "ok",
     "timestamp": 1639680290829,
     "user": {
      "displayName": "k b",
      "photoUrl": "https://lh3.googleusercontent.com/a/default-user=s64",
      "userId": "13188403408819520267"
     },
     "user_tz": -120
    },
    "id": "iAVfl4bsj2vw",
    "outputId": "cf1f00ff-f9cf-4374-cb9b-5393df7ad8fa"
   },
   "outputs": [
    {
     "data": {
      "text/html": [
       "\n",
       "            <div>\n",
       "                <p><b>SparkSession - in-memory</b></p>\n",
       "                \n",
       "        <div>\n",
       "            <p><b>SparkContext</b></p>\n",
       "\n",
       "            <p><a href=\"http://khef-air:4040\">Spark UI</a></p>\n",
       "\n",
       "            <dl>\n",
       "              <dt>Version</dt>\n",
       "                <dd><code>v3.2.0</code></dd>\n",
       "              <dt>Master</dt>\n",
       "                <dd><code>local[*]</code></dd>\n",
       "              <dt>AppName</dt>\n",
       "                <dd><code>ml_project</code></dd>\n",
       "            </dl>\n",
       "        </div>\n",
       "        \n",
       "            </div>\n",
       "        "
      ],
      "text/plain": [
       "<pyspark.sql.session.SparkSession at 0x7f95e1a9e610>"
      ]
     },
     "execution_count": 7,
     "metadata": {},
     "output_type": "execute_result"
    }
   ],
   "source": [
    "spark"
   ]
  },
  {
   "cell_type": "code",
   "execution_count": 8,
   "metadata": {
    "colab": {
     "base_uri": "https://localhost:8080/"
    },
    "executionInfo": {
     "elapsed": 1535,
     "status": "ok",
     "timestamp": 1639680345033,
     "user": {
      "displayName": "k b",
      "photoUrl": "https://lh3.googleusercontent.com/a/default-user=s64",
      "userId": "13188403408819520267"
     },
     "user_tz": -120
    },
    "id": "C0oRpI4ezFgc",
    "outputId": "7e0d1bad-4ecf-4e9b-ca49-e0dd4f37f228"
   },
   "outputs": [
    {
     "name": "stdout",
     "output_type": "stream",
     "text": [
      "Cloning into 'admission_dataset'...\n",
      "remote: Enumerating objects: 3, done.\u001b[K\n",
      "remote: Counting objects: 100% (3/3), done.\u001b[K\n",
      "remote: Compressing objects: 100% (3/3), done.\u001b[K\n",
      "remote: Total 3 (delta 0), reused 0 (delta 0), pack-reused 0\u001b[K\n",
      "Receiving objects: 100% (3/3), 5.60 KiB | 2.80 MiB/s, done.\n"
     ]
    }
   ],
   "source": [
    "! git clone https://github.com/education454/admission_dataset"
   ]
  },
  {
   "cell_type": "code",
   "execution_count": 11,
   "metadata": {
    "executionInfo": {
     "elapsed": 8025,
     "status": "ok",
     "timestamp": 1639680508924,
     "user": {
      "displayName": "k b",
      "photoUrl": "https://lh3.googleusercontent.com/a/default-user=s64",
      "userId": "13188403408819520267"
     },
     "user_tz": -120
    },
    "id": "q6sF2NVazjtU"
   },
   "outputs": [],
   "source": [
    "df = spark.read.csv('admission_dataset/Admission_Predict_Ver1.1.csv', header=True, inferSchema=True)"
   ]
  },
  {
   "cell_type": "code",
   "execution_count": 12,
   "metadata": {
    "colab": {
     "base_uri": "https://localhost:8080/"
    },
    "executionInfo": {
     "elapsed": 1141,
     "status": "ok",
     "timestamp": 1639680514736,
     "user": {
      "displayName": "k b",
      "photoUrl": "https://lh3.googleusercontent.com/a/default-user=s64",
      "userId": "13188403408819520267"
     },
     "user_tz": -120
    },
    "id": "cG6UhIUuznfJ",
    "outputId": "6bb38ff5-c4f3-472e-e1cb-29c47992a5ea"
   },
   "outputs": [
    {
     "name": "stdout",
     "output_type": "stream",
     "text": [
      "+---------+---------+-----------+-----------------+---+---+----+--------+---------------+\n",
      "|Serial No|GRE Score|TOEFL Score|University Rating|SOP|LOR|CGPA|Research|Chance of Admit|\n",
      "+---------+---------+-----------+-----------------+---+---+----+--------+---------------+\n",
      "|        1|      337|        118|                4|4.5|4.5|9.65|       1|           0.92|\n",
      "|        2|      324|        107|                4|4.0|4.5|8.87|       1|           0.76|\n",
      "|        3|      316|        104|                3|3.0|3.5| 8.0|       1|           0.72|\n",
      "|        4|      322|        110|                3|3.5|2.5|8.67|       1|            0.8|\n",
      "|        5|      314|        103|                2|2.0|3.0|8.21|       0|           0.65|\n",
      "|        6|      330|        115|                5|4.5|3.0|9.34|       1|            0.9|\n",
      "|        7|      321|        109|                3|3.0|4.0| 8.2|       1|           0.75|\n",
      "|        8|      308|        101|                2|3.0|4.0| 7.9|       0|           0.68|\n",
      "|        9|      302|        102|                1|2.0|1.5| 8.0|       0|            0.5|\n",
      "|       10|      323|        108|                3|3.5|3.0| 8.6|       0|           0.45|\n",
      "|       11|      325|        106|                3|3.5|4.0| 8.4|       1|           0.52|\n",
      "|       12|      327|        111|                4|4.0|4.5| 9.0|       1|           0.84|\n",
      "|       13|      328|        112|                4|4.0|4.5| 9.1|       1|           0.78|\n",
      "|       14|      307|        109|                3|4.0|3.0| 8.0|       1|           0.62|\n",
      "|       15|      311|        104|                3|3.5|2.0| 8.2|       1|           0.61|\n",
      "|       16|      314|        105|                3|3.5|2.5| 8.3|       0|           0.54|\n",
      "|       17|      317|        107|                3|4.0|3.0| 8.7|       0|           0.66|\n",
      "|       18|      319|        106|                3|4.0|3.0| 8.0|       1|           0.65|\n",
      "|       19|      318|        110|                3|4.0|3.0| 8.8|       0|           0.63|\n",
      "|       20|      303|        102|                3|3.5|3.0| 8.5|       0|           0.62|\n",
      "+---------+---------+-----------+-----------------+---+---+----+--------+---------------+\n",
      "only showing top 20 rows\n",
      "\n"
     ]
    }
   ],
   "source": [
    "df.show()"
   ]
  },
  {
   "cell_type": "code",
   "execution_count": 13,
   "metadata": {
    "colab": {
     "base_uri": "https://localhost:8080/"
    },
    "executionInfo": {
     "elapsed": 1658,
     "status": "ok",
     "timestamp": 1639680752179,
     "user": {
      "displayName": "k b",
      "photoUrl": "https://lh3.googleusercontent.com/a/default-user=s64",
      "userId": "13188403408819520267"
     },
     "user_tz": -120
    },
    "id": "tgtWocArzqVR",
    "outputId": "564734a7-3681-4852-8a90-474367f47f0c"
   },
   "outputs": [
    {
     "name": "stdout",
     "output_type": "stream",
     "text": [
      "(500, 9)\n"
     ]
    }
   ],
   "source": [
    "shape = (df.count(), len(df.columns))\n",
    "\n",
    "print(shape)"
   ]
  },
  {
   "cell_type": "code",
   "execution_count": 14,
   "metadata": {
    "colab": {
     "base_uri": "https://localhost:8080/"
    },
    "executionInfo": {
     "elapsed": 407,
     "status": "ok",
     "timestamp": 1639680795787,
     "user": {
      "displayName": "k b",
      "photoUrl": "https://lh3.googleusercontent.com/a/default-user=s64",
      "userId": "13188403408819520267"
     },
     "user_tz": -120
    },
    "id": "OWQTe006zt7O",
    "outputId": "3ac5db1a-42ac-406b-b9d6-bf6862ff884c"
   },
   "outputs": [
    {
     "name": "stdout",
     "output_type": "stream",
     "text": [
      "root\n",
      " |-- Serial No: integer (nullable = true)\n",
      " |-- GRE Score: integer (nullable = true)\n",
      " |-- TOEFL Score: integer (nullable = true)\n",
      " |-- University Rating: integer (nullable = true)\n",
      " |-- SOP: double (nullable = true)\n",
      " |-- LOR: double (nullable = true)\n",
      " |-- CGPA: double (nullable = true)\n",
      " |-- Research: integer (nullable = true)\n",
      " |-- Chance of Admit: double (nullable = true)\n",
      "\n"
     ]
    }
   ],
   "source": [
    "df.printSchema()"
   ]
  },
  {
   "cell_type": "code",
   "execution_count": 15,
   "metadata": {
    "colab": {
     "base_uri": "https://localhost:8080/"
    },
    "executionInfo": {
     "elapsed": 1800,
     "status": "ok",
     "timestamp": 1639680881753,
     "user": {
      "displayName": "k b",
      "photoUrl": "https://lh3.googleusercontent.com/a/default-user=s64",
      "userId": "13188403408819520267"
     },
     "user_tz": -120
    },
    "id": "locEx8HDz264",
    "outputId": "5178f2d4-edaa-4db7-855f-c7e30c047858"
   },
   "outputs": [
    {
     "name": "stdout",
     "output_type": "stream",
     "text": [
      "+-------+-----------------+------------------+-----------------+-----------------+------------------+------------------+------------------+------------------+-------------------+\n",
      "|summary|        Serial No|         GRE Score|      TOEFL Score|University Rating|               SOP|               LOR|              CGPA|          Research|    Chance of Admit|\n",
      "+-------+-----------------+------------------+-----------------+-----------------+------------------+------------------+------------------+------------------+-------------------+\n",
      "|  count|              500|               500|              500|              500|               500|               500|               500|               500|                500|\n",
      "|   mean|            250.5|           316.472|          107.192|            3.114|             3.374|             3.484| 8.576440000000003|              0.56| 0.7217399999999996|\n",
      "| stddev|144.4818327679989|11.295148372354712|6.081867659564538|1.143511800759815|0.9910036207566072|0.9254495738978191|0.6048128003332054|0.4968840786090358|0.14114040395030228|\n",
      "|    min|                1|               290|               92|                1|               1.0|               1.0|               6.8|                 0|               0.34|\n",
      "|    max|              500|               340|              120|                5|               5.0|               5.0|              9.92|                 1|               0.97|\n",
      "+-------+-----------------+------------------+-----------------+-----------------+------------------+------------------+------------------+------------------+-------------------+\n",
      "\n"
     ]
    }
   ],
   "source": [
    "df.describe().show()"
   ]
  },
  {
   "cell_type": "code",
   "execution_count": 16,
   "metadata": {
    "executionInfo": {
     "elapsed": 422,
     "status": "ok",
     "timestamp": 1639681062890,
     "user": {
      "displayName": "k b",
      "photoUrl": "https://lh3.googleusercontent.com/a/default-user=s64",
      "userId": "13188403408819520267"
     },
     "user_tz": -120
    },
    "id": "o6gJAFo30G9s"
   },
   "outputs": [],
   "source": [
    "df= df.drop('Serial No')"
   ]
  },
  {
   "cell_type": "code",
   "execution_count": 17,
   "metadata": {
    "colab": {
     "base_uri": "https://localhost:8080/"
    },
    "executionInfo": {
     "elapsed": 487,
     "status": "ok",
     "timestamp": 1639681086248,
     "user": {
      "displayName": "k b",
      "photoUrl": "https://lh3.googleusercontent.com/a/default-user=s64",
      "userId": "13188403408819520267"
     },
     "user_tz": -120
    },
    "id": "_lOPoDVk0OFH",
    "outputId": "95b861fb-7261-4890-ce11-f9e5f1470737"
   },
   "outputs": [
    {
     "name": "stdout",
     "output_type": "stream",
     "text": [
      "+---------+-----------+-----------------+---+---+----+--------+---------------+\n",
      "|GRE Score|TOEFL Score|University Rating|SOP|LOR|CGPA|Research|Chance of Admit|\n",
      "+---------+-----------+-----------------+---+---+----+--------+---------------+\n",
      "|      337|        118|                4|4.5|4.5|9.65|       1|           0.92|\n",
      "|      324|        107|                4|4.0|4.5|8.87|       1|           0.76|\n",
      "+---------+-----------+-----------------+---+---+----+--------+---------------+\n",
      "only showing top 2 rows\n",
      "\n"
     ]
    }
   ],
   "source": [
    "df.show(2)"
   ]
  },
  {
   "cell_type": "code",
   "execution_count": 18,
   "metadata": {
    "colab": {
     "base_uri": "https://localhost:8080/"
    },
    "executionInfo": {
     "elapsed": 549,
     "status": "ok",
     "timestamp": 1639681371972,
     "user": {
      "displayName": "k b",
      "photoUrl": "https://lh3.googleusercontent.com/a/default-user=s64",
      "userId": "13188403408819520267"
     },
     "user_tz": -120
    },
    "id": "Au73oUZJ0Qv7",
    "outputId": "7bef99f5-d2ef-4345-e135-b169485d491e"
   },
   "outputs": [
    {
     "name": "stdout",
     "output_type": "stream",
     "text": [
      "0\n"
     ]
    }
   ],
   "source": [
    "print(df[df['GRE Score'].isNull()].count())"
   ]
  },
  {
   "cell_type": "code",
   "execution_count": 19,
   "metadata": {
    "colab": {
     "base_uri": "https://localhost:8080/"
    },
    "executionInfo": {
     "elapsed": 2567,
     "status": "ok",
     "timestamp": 1639681477028,
     "user": {
      "displayName": "k b",
      "photoUrl": "https://lh3.googleusercontent.com/a/default-user=s64",
      "userId": "13188403408819520267"
     },
     "user_tz": -120
    },
    "id": "iwahAbeDoEC5",
    "outputId": "358a93cb-931c-4ed1-848c-bfad82caf06b"
   },
   "outputs": [
    {
     "name": "stdout",
     "output_type": "stream",
     "text": [
      "GRE Score: 0\n",
      "TOEFL Score: 0\n",
      "University Rating: 0\n",
      "SOP: 0\n",
      "LOR: 0\n",
      "CGPA: 0\n",
      "Research: 0\n",
      "Chance of Admit: 0\n"
     ]
    }
   ],
   "source": [
    "for col in df.columns:\n",
    "  print(col + ':' , df[df[col].isNull()].count())"
   ]
  },
  {
   "cell_type": "markdown",
   "metadata": {
    "id": "prkDI9Dc0SoH"
   },
   "source": [
    "### Correlation Analysis & Feature Selection"
   ]
  },
  {
   "cell_type": "code",
   "execution_count": 20,
   "metadata": {
    "colab": {
     "base_uri": "https://localhost:8080/"
    },
    "executionInfo": {
     "elapsed": 404,
     "status": "ok",
     "timestamp": 1639681714604,
     "user": {
      "displayName": "k b",
      "photoUrl": "https://lh3.googleusercontent.com/a/default-user=s64",
      "userId": "13188403408819520267"
     },
     "user_tz": -120
    },
    "id": "eFhxSRRj0Ypa",
    "outputId": "8b70529a-5ba3-4b29-fd94-ebcb479a9eb3"
   },
   "outputs": [
    {
     "name": "stdout",
     "output_type": "stream",
     "text": [
      "0.8103506354632601\n"
     ]
    }
   ],
   "source": [
    "print(df.stat.corr('GRE Score', 'Chance of Admit'))"
   ]
  },
  {
   "cell_type": "code",
   "execution_count": 21,
   "metadata": {
    "colab": {
     "base_uri": "https://localhost:8080/"
    },
    "executionInfo": {
     "elapsed": 976,
     "status": "ok",
     "timestamp": 1639682032138,
     "user": {
      "displayName": "k b",
      "photoUrl": "https://lh3.googleusercontent.com/a/default-user=s64",
      "userId": "13188403408819520267"
     },
     "user_tz": -120
    },
    "id": "qMYPdENcpYEh",
    "outputId": "e9a605b9-4ae6-4cca-edcf-352767ca1e4a"
   },
   "outputs": [
    {
     "name": "stdout",
     "output_type": "stream",
     "text": [
      "GRE Score is 0.81 correlated with the target variable Chance of Admit\n",
      "TOEFL Score is 0.792 correlated with the target variable Chance of Admit\n",
      "University Rating is 0.69 correlated with the target variable Chance of Admit\n",
      "SOP is 0.684 correlated with the target variable Chance of Admit\n",
      "LOR is 0.645 correlated with the target variable Chance of Admit\n",
      "CGPA is 0.882 correlated with the target variable Chance of Admit\n",
      "Research is 0.546 correlated with the target variable Chance of Admit\n",
      "Chance of Admit is 1.0 correlated with the target variable Chance of Admit\n"
     ]
    }
   ],
   "source": [
    "for col in df.columns:\n",
    "  print(f\"{col} is {round(df.stat.corr(col, 'Chance of Admit'),3)} correlated with the target variable Chance of Admit\")"
   ]
  },
  {
   "cell_type": "code",
   "execution_count": 22,
   "metadata": {
    "executionInfo": {
     "elapsed": 406,
     "status": "ok",
     "timestamp": 1639682339242,
     "user": {
      "displayName": "k b",
      "photoUrl": "https://lh3.googleusercontent.com/a/default-user=s64",
      "userId": "13188403408819520267"
     },
     "user_tz": -120
    },
    "id": "UXNOknvo0dV2"
   },
   "outputs": [],
   "source": [
    "from pyspark.ml.feature import VectorAssembler \n",
    "\n",
    "assembler = VectorAssembler(inputCols=['GRE Score','TOEFL Score', 'CGPA'],outputCol='features' )"
   ]
  },
  {
   "cell_type": "code",
   "execution_count": 23,
   "metadata": {
    "colab": {
     "base_uri": "https://localhost:8080/"
    },
    "executionInfo": {
     "elapsed": 1230,
     "status": "ok",
     "timestamp": 1639682406949,
     "user": {
      "displayName": "k b",
      "photoUrl": "https://lh3.googleusercontent.com/a/default-user=s64",
      "userId": "13188403408819520267"
     },
     "user_tz": -120
    },
    "id": "JOzlkPaz0ibL",
    "outputId": "5e04f4b9-e5ff-4f6c-e24a-7d69477feb28"
   },
   "outputs": [
    {
     "name": "stdout",
     "output_type": "stream",
     "text": [
      "+---------+-----------+-----------------+---+---+----+--------+---------------+------------------+\n",
      "|GRE Score|TOEFL Score|University Rating|SOP|LOR|CGPA|Research|Chance of Admit|          features|\n",
      "+---------+-----------+-----------------+---+---+----+--------+---------------+------------------+\n",
      "|      337|        118|                4|4.5|4.5|9.65|       1|           0.92|[337.0,118.0,9.65]|\n",
      "|      324|        107|                4|4.0|4.5|8.87|       1|           0.76|[324.0,107.0,8.87]|\n",
      "|      316|        104|                3|3.0|3.5| 8.0|       1|           0.72| [316.0,104.0,8.0]|\n",
      "|      322|        110|                3|3.5|2.5|8.67|       1|            0.8|[322.0,110.0,8.67]|\n",
      "|      314|        103|                2|2.0|3.0|8.21|       0|           0.65|[314.0,103.0,8.21]|\n",
      "|      330|        115|                5|4.5|3.0|9.34|       1|            0.9|[330.0,115.0,9.34]|\n",
      "|      321|        109|                3|3.0|4.0| 8.2|       1|           0.75| [321.0,109.0,8.2]|\n",
      "|      308|        101|                2|3.0|4.0| 7.9|       0|           0.68| [308.0,101.0,7.9]|\n",
      "|      302|        102|                1|2.0|1.5| 8.0|       0|            0.5| [302.0,102.0,8.0]|\n",
      "|      323|        108|                3|3.5|3.0| 8.6|       0|           0.45| [323.0,108.0,8.6]|\n",
      "|      325|        106|                3|3.5|4.0| 8.4|       1|           0.52| [325.0,106.0,8.4]|\n",
      "|      327|        111|                4|4.0|4.5| 9.0|       1|           0.84| [327.0,111.0,9.0]|\n",
      "|      328|        112|                4|4.0|4.5| 9.1|       1|           0.78| [328.0,112.0,9.1]|\n",
      "|      307|        109|                3|4.0|3.0| 8.0|       1|           0.62| [307.0,109.0,8.0]|\n",
      "|      311|        104|                3|3.5|2.0| 8.2|       1|           0.61| [311.0,104.0,8.2]|\n",
      "|      314|        105|                3|3.5|2.5| 8.3|       0|           0.54| [314.0,105.0,8.3]|\n",
      "|      317|        107|                3|4.0|3.0| 8.7|       0|           0.66| [317.0,107.0,8.7]|\n",
      "|      319|        106|                3|4.0|3.0| 8.0|       1|           0.65| [319.0,106.0,8.0]|\n",
      "|      318|        110|                3|4.0|3.0| 8.8|       0|           0.63| [318.0,110.0,8.8]|\n",
      "|      303|        102|                3|3.5|3.0| 8.5|       0|           0.62| [303.0,102.0,8.5]|\n",
      "+---------+-----------+-----------------+---+---+----+--------+---------------+------------------+\n",
      "only showing top 20 rows\n",
      "\n"
     ]
    }
   ],
   "source": [
    "output_data = assembler.transform(df)\n",
    "output_data.show()"
   ]
  },
  {
   "cell_type": "markdown",
   "metadata": {
    "id": "l6FucLAC0r5I"
   },
   "source": [
    "###  Linear Regression Model"
   ]
  },
  {
   "cell_type": "code",
   "execution_count": 24,
   "metadata": {
    "executionInfo": {
     "elapsed": 428,
     "status": "ok",
     "timestamp": 1639682619949,
     "user": {
      "displayName": "k b",
      "photoUrl": "https://lh3.googleusercontent.com/a/default-user=s64",
      "userId": "13188403408819520267"
     },
     "user_tz": -120
    },
    "id": "RMYN_8jJ0wDR"
   },
   "outputs": [],
   "source": [
    "from pyspark.ml.regression import LinearRegression\n",
    "\n",
    "final_data = output_data.select('features', 'Chance of Admit')"
   ]
  },
  {
   "cell_type": "code",
   "execution_count": 25,
   "metadata": {
    "colab": {
     "base_uri": "https://localhost:8080/"
    },
    "executionInfo": {
     "elapsed": 4,
     "status": "ok",
     "timestamp": 1639682637750,
     "user": {
      "displayName": "k b",
      "photoUrl": "https://lh3.googleusercontent.com/a/default-user=s64",
      "userId": "13188403408819520267"
     },
     "user_tz": -120
    },
    "id": "MNSEfLCp09oO",
    "outputId": "2b2e7f6f-31d0-4f9a-b681-0260ee6bb5fd"
   },
   "outputs": [
    {
     "name": "stdout",
     "output_type": "stream",
     "text": [
      "root\n",
      " |-- features: vector (nullable = true)\n",
      " |-- Chance of Admit: double (nullable = true)\n",
      "\n"
     ]
    }
   ],
   "source": [
    "final_data.printSchema()"
   ]
  },
  {
   "cell_type": "code",
   "execution_count": 26,
   "metadata": {
    "executionInfo": {
     "elapsed": 613,
     "status": "ok",
     "timestamp": 1639682734549,
     "user": {
      "displayName": "k b",
      "photoUrl": "https://lh3.googleusercontent.com/a/default-user=s64",
      "userId": "13188403408819520267"
     },
     "user_tz": -120
    },
    "id": "vOJylIiS1Dre"
   },
   "outputs": [],
   "source": [
    "train, test = final_data.randomSplit([0.7,0.3])\n"
   ]
  },
  {
   "cell_type": "code",
   "execution_count": 40,
   "metadata": {
    "executionInfo": {
     "elapsed": 2049,
     "status": "ok",
     "timestamp": 1639682931206,
     "user": {
      "displayName": "k b",
      "photoUrl": "https://lh3.googleusercontent.com/a/default-user=s64",
      "userId": "13188403408819520267"
     },
     "user_tz": -120
    },
    "id": "xoxFzm4A1Hee"
   },
   "outputs": [
    {
     "name": "stderr",
     "output_type": "stream",
     "text": [
      "22/01/03 20:32:05 WARN Instrumentation: [2d14172f] regParam is zero, which might cause numerical instability and overfitting.\n"
     ]
    }
   ],
   "source": [
    "models = LinearRegression(featuresCol= 'features', labelCol='Chance of Admit')\n",
    "\n",
    "model= models.fit(train)\n"
   ]
  },
  {
   "cell_type": "code",
   "execution_count": 41,
   "metadata": {
    "colab": {
     "base_uri": "https://localhost:8080/"
    },
    "executionInfo": {
     "elapsed": 408,
     "status": "ok",
     "timestamp": 1639683005722,
     "user": {
      "displayName": "k b",
      "photoUrl": "https://lh3.googleusercontent.com/a/default-user=s64",
      "userId": "13188403408819520267"
     },
     "user_tz": -120
    },
    "id": "DDCZ9uvA1QLf",
    "outputId": "00aae740-7e6c-4531-c41c-45c146fa29de"
   },
   "outputs": [
    {
     "name": "stdout",
     "output_type": "stream",
     "text": [
      "Coefficients: [0.001757969801528378,0.003691646271629612,0.14267404326029562]\n",
      "Intercept: -1.4532069561978138\n"
     ]
    }
   ],
   "source": [
    "print('Coefficients:', model.coefficients)\n",
    "\n",
    "print('Intercept:', model.intercept)"
   ]
  },
  {
   "cell_type": "code",
   "execution_count": 42,
   "metadata": {
    "executionInfo": {
     "elapsed": 509,
     "status": "ok",
     "timestamp": 1639683108783,
     "user": {
      "displayName": "k b",
      "photoUrl": "https://lh3.googleusercontent.com/a/default-user=s64",
      "userId": "13188403408819520267"
     },
     "user_tz": -120
    },
    "id": "bO6Duj1l1YJX"
   },
   "outputs": [],
   "source": [
    "summary = model.summary"
   ]
  },
  {
   "cell_type": "code",
   "execution_count": 32,
   "metadata": {
    "colab": {
     "base_uri": "https://localhost:8080/"
    },
    "executionInfo": {
     "elapsed": 410,
     "status": "ok",
     "timestamp": 1639683198198,
     "user": {
      "displayName": "k b",
      "photoUrl": "https://lh3.googleusercontent.com/a/default-user=s64",
      "userId": "13188403408819520267"
     },
     "user_tz": -120
    },
    "id": "ebi9LxFS1aBJ",
    "outputId": "fd48ba09-cbc8-4796-a38d-963e2cc32703"
   },
   "outputs": [
    {
     "name": "stdout",
     "output_type": "stream",
     "text": [
      "RMSE : 0.06320934079653275\n",
      "r2 : 0.7818053312668196\n"
     ]
    }
   ],
   "source": [
    "print('RMSE :', summary.rootMeanSquaredError)\n",
    "\n",
    "print('r2 :', summary.r2)"
   ]
  },
  {
   "cell_type": "markdown",
   "metadata": {
    "id": "b5lTskfK1eKV"
   },
   "source": [
    "###  Evaluate & Save the Model"
   ]
  },
  {
   "cell_type": "code",
   "execution_count": 43,
   "metadata": {
    "executionInfo": {
     "elapsed": 451,
     "status": "ok",
     "timestamp": 1639683305718,
     "user": {
      "displayName": "k b",
      "photoUrl": "https://lh3.googleusercontent.com/a/default-user=s64",
      "userId": "13188403408819520267"
     },
     "user_tz": -120
    },
    "id": "l0TAwvGP1noC"
   },
   "outputs": [],
   "source": [
    "predictions= model.transform(test)"
   ]
  },
  {
   "cell_type": "code",
   "execution_count": 44,
   "metadata": {
    "colab": {
     "base_uri": "https://localhost:8080/"
    },
    "executionInfo": {
     "elapsed": 788,
     "status": "ok",
     "timestamp": 1639683321017,
     "user": {
      "displayName": "k b",
      "photoUrl": "https://lh3.googleusercontent.com/a/default-user=s64",
      "userId": "13188403408819520267"
     },
     "user_tz": -120
    },
    "id": "T_DixZ6f1nvP",
    "outputId": "f6dcfd44-7e00-4d1f-89d8-e149e5940cdf"
   },
   "outputs": [
    {
     "name": "stdout",
     "output_type": "stream",
     "text": [
      "+------------------+---------------+-------------------+\n",
      "|          features|Chance of Admit|         prediction|\n",
      "+------------------+---------------+-------------------+\n",
      "|[290.0,100.0,7.56]|           0.47| 0.5043846804562118|\n",
      "|  [293.0,97.0,7.8]|           0.64| 0.5328254214283792|\n",
      "| [294.0,93.0,7.36]|           0.46|0.45704022710885894|\n",
      "| [295.0,99.0,7.57]|           0.37| 0.5109096236248272|\n",
      "| [296.0,95.0,7.54]|           0.44|0.49362078704202816|\n",
      "| [297.0,96.0,7.89]|           0.43| 0.5490063182562894|\n",
      "| [298.0,92.0,7.88]|           0.51| 0.5345709625386965|\n",
      "| [298.0,97.0,7.21]|           0.45|0.45743758491244657|\n",
      "| [298.0,99.0,7.46]|           0.53| 0.5004893882707797|\n",
      "|[298.0,101.0,7.69]|           0.53|  0.540687710763907|\n",
      "|[298.0,105.0,8.54]|           0.69| 0.6767272326216764|\n",
      "| [299.0,94.0,7.34]|           0.42|0.46666824152292463|\n",
      "| [299.0,96.0,7.86]|           0.54| 0.5482420365615377|\n",
      "|[299.0,102.0,8.62]|           0.56| 0.6788241870691396|\n",
      "| [300.0,95.0,8.22]|           0.62| 0.5976710156651428|\n",
      "|  [300.0,97.0,8.1]|           0.65| 0.5879334230171664|\n",
      "|  [300.0,99.0,6.8]|           0.36| 0.4098404593220415|\n",
      "|[300.0,100.0,8.26]|           0.62| 0.6218362087537026|\n",
      "| [301.0,97.0,7.88]|           0.44| 0.5583031033014298|\n",
      "| [301.0,98.0,8.03]|           0.67| 0.5833958560621035|\n",
      "+------------------+---------------+-------------------+\n",
      "only showing top 20 rows\n",
      "\n"
     ]
    }
   ],
   "source": [
    "predictions.show()"
   ]
  },
  {
   "cell_type": "code",
   "execution_count": 45,
   "metadata": {
    "colab": {
     "base_uri": "https://localhost:8080/"
    },
    "executionInfo": {
     "elapsed": 420,
     "status": "ok",
     "timestamp": 1639683640763,
     "user": {
      "displayName": "k b",
      "photoUrl": "https://lh3.googleusercontent.com/a/default-user=s64",
      "userId": "13188403408819520267"
     },
     "user_tz": -120
    },
    "id": "vzxDnudZ1n3n",
    "outputId": "04e0d3a8-7e41-4151-b316-00df1d2c701f"
   },
   "outputs": [
    {
     "name": "stdout",
     "output_type": "stream",
     "text": [
      "r2 score: 0.8401373849399525\n"
     ]
    }
   ],
   "source": [
    "from pyspark.ml.evaluation import RegressionEvaluator\n",
    "\n",
    "evaluator = RegressionEvaluator(predictionCol='prediction', labelCol='Chance of Admit', metricName='r2')\n",
    "\n",
    "print('r2 score:', evaluator.evaluate(predictions))"
   ]
  },
  {
   "cell_type": "code",
   "execution_count": null,
   "metadata": {
    "executionInfo": {
     "elapsed": 2538,
     "status": "ok",
     "timestamp": 1639683682354,
     "user": {
      "displayName": "k b",
      "photoUrl": "https://lh3.googleusercontent.com/a/default-user=s64",
      "userId": "13188403408819520267"
     },
     "user_tz": -120
    },
    "id": "WEeyiruX1n_I"
   },
   "outputs": [],
   "source": [
    "model.save('model')"
   ]
  },
  {
   "cell_type": "code",
   "execution_count": 47,
   "metadata": {
    "executionInfo": {
     "elapsed": 1516,
     "status": "ok",
     "timestamp": 1639683781007,
     "user": {
      "displayName": "k b",
      "photoUrl": "https://lh3.googleusercontent.com/a/default-user=s64",
      "userId": "13188403408819520267"
     },
     "user_tz": -120
    },
    "id": "PK48FYRd2CMJ"
   },
   "outputs": [],
   "source": [
    "from pyspark.ml.regression import LinearRegressionModel\n",
    "\n",
    "model_new= LinearRegressionModel.load('model')"
   ]
  },
  {
   "cell_type": "code",
   "execution_count": null,
   "metadata": {},
   "outputs": [],
   "source": [
    "model_new"
   ]
  }
 ],
 "metadata": {
  "colab": {
   "collapsed_sections": [],
   "name": "Admission_prediction_with_pyspark_ml.ipynb",
   "provenance": []
  },
  "kernelspec": {
   "display_name": "Python 3 (ipykernel)",
   "language": "python",
   "name": "python3"
  },
  "language_info": {
   "codemirror_mode": {
    "name": "ipython",
    "version": 3
   },
   "file_extension": ".py",
   "mimetype": "text/x-python",
   "name": "python",
   "nbconvert_exporter": "python",
   "pygments_lexer": "ipython3",
   "version": "3.9.7"
  }
 },
 "nbformat": 4,
 "nbformat_minor": 4
}
